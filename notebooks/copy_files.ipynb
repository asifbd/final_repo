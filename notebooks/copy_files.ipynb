{
 "cells": [
  {
   "cell_type": "code",
   "execution_count": 3,
   "metadata": {},
   "outputs": [
    {
     "name": "stderr",
     "output_type": "stream",
     "text": [
      "100%|██████████| 100/100 [00:00<00:00, 1547713.65it/s]\n"
     ]
    }
   ],
   "source": [
    "# Use tqdm\n",
    "\n",
    "from tqdm import tqdm\n",
    "\n",
    "for i in tqdm(range(100)):\n",
    "\tpass"
   ]
  },
  {
   "cell_type": "code",
   "execution_count": null,
   "metadata": {},
   "outputs": [
    {
     "name": "stderr",
     "output_type": "stream",
     "text": [
      "100%|██████████| 13471/13471 [02:30<00:00, 89.22it/s] \n"
     ]
    }
   ],
   "source": [
    "# For each folder inside \"../data/segmented\", copies the images in the folder to \"../data/all_procesed_images\"\n",
    "\n",
    "import os\n",
    "import shutil\n",
    "\n",
    "source_dir = \"../data/raw_images/segmented\"\n",
    "target_dir = \"../data/raw_images/all_processed_images\"\n",
    "\n",
    "if not os.path.exists(target_dir):\n",
    "\tos.makedirs(target_dir)\n",
    "\n",
    "for folder in tqdm(os.listdir(source_dir)):\n",
    "\tfolder_path = os.path.join(source_dir, folder)\n",
    "\t\n",
    "\tif os.path.isdir(folder_path):\n",
    "\t\tfor image in os.listdir(folder_path):\n",
    "\t\t\timage_path = os.path.join(folder_path, image)\n",
    "\t\t\tshutil.copy(image_path, target_dir)\n"
   ]
  },
  {
   "cell_type": "code",
   "execution_count": null,
   "metadata": {},
   "outputs": [
    {
     "name": "stderr",
     "output_type": "stream",
     "text": [
      "100%|██████████| 16296/16296 [00:17<00:00, 905.64it/s] \n"
     ]
    }
   ],
   "source": [
    "# copy all files from '../data/resized' to '../data/all_processed_images'\n",
    "\n",
    "source_dir = \"../data/raw_images/resized\"\n",
    "target_dir = \"../data/raw_images/all_processed_images\"\n",
    "\n",
    "for image in tqdm(os.listdir(source_dir)):\n",
    "\timage_path = os.path.join(source_dir, image)\n",
    "\tshutil.copy(image_path, target_dir)\n",
    "\t"
   ]
  },
  {
   "cell_type": "code",
   "execution_count": null,
   "metadata": {},
   "outputs": [
    {
     "data": {
      "text/html": [
       "<div>\n",
       "<style scoped>\n",
       "    .dataframe tbody tr th:only-of-type {\n",
       "        vertical-align: middle;\n",
       "    }\n",
       "\n",
       "    .dataframe tbody tr th {\n",
       "        vertical-align: top;\n",
       "    }\n",
       "\n",
       "    .dataframe thead th {\n",
       "        text-align: right;\n",
       "    }\n",
       "</style>\n",
       "<table border=\"1\" class=\"dataframe\">\n",
       "  <thead>\n",
       "    <tr style=\"text-align: right;\">\n",
       "      <th></th>\n",
       "      <th>product_id</th>\n",
       "      <th>annotated_image_name</th>\n",
       "      <th>fabric_types_clean</th>\n",
       "      <th>wear_types_clean</th>\n",
       "      <th>colors_clean</th>\n",
       "      <th>textures_clean</th>\n",
       "      <th>value_additions_clean</th>\n",
       "    </tr>\n",
       "  </thead>\n",
       "  <tbody>\n",
       "    <tr>\n",
       "      <th>2459</th>\n",
       "      <td>7820</td>\n",
       "      <td>0460000029714.jpg</td>\n",
       "      <td>Voile</td>\n",
       "      <td>Nightwear</td>\n",
       "      <td>red,white</td>\n",
       "      <td>tie dye,embroidery</td>\n",
       "      <td>lace</td>\n",
       "    </tr>\n",
       "    <tr>\n",
       "      <th>2169</th>\n",
       "      <td>6955</td>\n",
       "      <td>0570000124625.jpg</td>\n",
       "      <td>Cotton</td>\n",
       "      <td>Panjabi</td>\n",
       "      <td>brown,black</td>\n",
       "      <td>block print</td>\n",
       "      <td>NaN</td>\n",
       "    </tr>\n",
       "    <tr>\n",
       "      <th>1864</th>\n",
       "      <td>7457</td>\n",
       "      <td>0410000100429_2.jpg</td>\n",
       "      <td>Cotton</td>\n",
       "      <td>Coats &amp; Jackets</td>\n",
       "      <td>blue</td>\n",
       "      <td>tie dye</td>\n",
       "      <td>NaN</td>\n",
       "    </tr>\n",
       "    <tr>\n",
       "      <th>2430</th>\n",
       "      <td>2849</td>\n",
       "      <td>1420000162323_1.jpg</td>\n",
       "      <td>Viscose Blend</td>\n",
       "      <td>Shalwar Kameez</td>\n",
       "      <td>red,black,blue</td>\n",
       "      <td>dobby,embroidery,printed</td>\n",
       "      <td>NaN</td>\n",
       "    </tr>\n",
       "    <tr>\n",
       "      <th>898</th>\n",
       "      <td>2043</td>\n",
       "      <td>0560000060443_2.jpg</td>\n",
       "      <td>Silk</td>\n",
       "      <td>Saree</td>\n",
       "      <td>orange,green,golden</td>\n",
       "      <td>NaN</td>\n",
       "      <td>NaN</td>\n",
       "    </tr>\n",
       "  </tbody>\n",
       "</table>\n",
       "</div>"
      ],
      "text/plain": [
       "      product_id annotated_image_name fabric_types_clean wear_types_clean  \\\n",
       "2459        7820    0460000029714.jpg              Voile        Nightwear   \n",
       "2169        6955    0570000124625.jpg             Cotton          Panjabi   \n",
       "1864        7457  0410000100429_2.jpg             Cotton  Coats & Jackets   \n",
       "2430        2849  1420000162323_1.jpg      Viscose Blend   Shalwar Kameez   \n",
       "898         2043  0560000060443_2.jpg               Silk            Saree   \n",
       "\n",
       "             colors_clean            textures_clean value_additions_clean  \n",
       "2459            red,white        tie dye,embroidery                  lace  \n",
       "2169          brown,black               block print                   NaN  \n",
       "1864                 blue                   tie dye                   NaN  \n",
       "2430       red,black,blue  dobby,embroidery,printed                   NaN  \n",
       "898   orange,green,golden                       NaN                   NaN  "
      ]
     },
     "execution_count": 1,
     "metadata": {},
     "output_type": "execute_result"
    }
   ],
   "source": [
    "import pandas as pd\n",
    "\n",
    "# Read the CSV file\n",
    "df = pd.read_csv('../data/cloth_dataset/aarong_dataset_clean_final.csv')\n",
    "\n",
    "# Display the first few rows of the DataFrame\n",
    "df.sample(5)"
   ]
  },
  {
   "cell_type": "code",
   "execution_count": 5,
   "metadata": {},
   "outputs": [
    {
     "name": "stderr",
     "output_type": "stream",
     "text": [
      "100%|██████████| 3301/3301 [00:04<00:00, 792.75it/s]\n"
     ]
    }
   ],
   "source": [
    "import os\n",
    "import shutil\n",
    "from tqdm import tqdm\n",
    "\n",
    "# take the annotated_image_name as filename, then copy the file from '../data/raw_images/all_processed_images' to '../data/cloth_dataset/images'\n",
    "\n",
    "source_dir = \"../data/raw_images/all_processed_images\"\n",
    "target_dir = \"../data/cloth_dataset/images\"\n",
    "\n",
    "\n",
    "for index, row in tqdm(df.iterrows(), total=df.shape[0]):\n",
    "\t# Get the filename from the DataFrame\n",
    "\tfilename = row['annotated_image_name']\n",
    "\t\n",
    "\t# Construct the full path to the source file\n",
    "\tsource_file = os.path.join(source_dir, filename)\n",
    "\t\n",
    "\t# Check if the file exists before copying\n",
    "\tif os.path.exists(source_file):\n",
    "\t\tshutil.copy(source_file, target_dir)\n",
    "\telse:\n",
    "\t\tprint(f\"File {source_file} does not exist.\")"
   ]
  }
 ],
 "metadata": {
  "kernelspec": {
   "display_name": "pytorch",
   "language": "python",
   "name": "python3"
  },
  "language_info": {
   "codemirror_mode": {
    "name": "ipython",
    "version": 3
   },
   "file_extension": ".py",
   "mimetype": "text/x-python",
   "name": "python",
   "nbconvert_exporter": "python",
   "pygments_lexer": "ipython3",
   "version": "3.12.6"
  }
 },
 "nbformat": 4,
 "nbformat_minor": 2
}
