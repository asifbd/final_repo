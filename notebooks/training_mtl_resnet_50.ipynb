{
 "cells": [
  {
   "cell_type": "markdown",
   "metadata": {},
   "source": [
    "# Overview\n",
    "\n",
    "In this attempt, I will use Resnet 50 along with other improvements made along the way of previous experiments."
   ]
  },
  {
   "cell_type": "markdown",
   "metadata": {},
   "source": [
    "## Load Data\n",
    "\n",
    "Loading the data and splitting into train/val/test sets. Omitting details to keep it cleaner (please see previous notebooks for any detail explanation of these steps)"
   ]
  },
  {
   "cell_type": "code",
   "execution_count": 1,
   "metadata": {},
   "outputs": [],
   "source": [
    "%load_ext autoreload\n",
    "%autoreload 2\n",
    "\n",
    "RANDOM_STATE = 2025"
   ]
  },
  {
   "cell_type": "code",
   "execution_count": 2,
   "metadata": {},
   "outputs": [],
   "source": [
    "import torch\n",
    "import torch.nn as nn\n",
    "import torch.optim as optim\n",
    "import pandas as pd\n",
    "import os\n",
    "from torchvision import models, transforms\n",
    "from torch.utils.data import DataLoader, Dataset\n",
    "from PIL import Image\n",
    "\n",
    "dataset_dir = \"../data/cloth_dataset\"\n",
    "csv_file_name = \"aarong_dataset_clean_final.csv\"\n",
    "\n",
    "# Load CSV File\n",
    "csv_file = os.path.join(dataset_dir, csv_file_name)\n",
    "df = pd.read_csv(csv_file)\n",
    "\n",
    "single_label_features = ['fabric_types_clean', 'wear_types_clean']\n",
    "multilabel_features = ['colors_clean', 'textures_clean', 'value_additions_clean']\n",
    "\n",
    "\n",
    "# Remove rare labels\n",
    "from my_utils.dataset_utils import remove_rare_labels\n",
    "\n",
    "for column in single_label_features + multilabel_features:\n",
    "\t# Replace NaN values with empty strings\n",
    "\tdf[column] = df[column].fillna('')\n",
    "\n",
    "\t# Remove rare labels\n",
    "\tdf[column] = remove_rare_labels(df[column], min_samples_threshold=50)\n",
    "\n",
    "\n",
    "# Encode labels\n",
    "from my_utils.preprocessing_utils import ml_binarizer, onehot_encode\n",
    "\n",
    "for column_name in single_label_features:\n",
    "\tdf = onehot_encode(df, column_name)\n",
    "\n",
    "for column_name in multilabel_features:\n",
    "\tdf = ml_binarizer(df, column_name)\n"
   ]
  },
  {
   "cell_type": "code",
   "execution_count": 3,
   "metadata": {},
   "outputs": [],
   "source": [
    "# Train/Val/Test Split in 70/15/15 ratio\n",
    "\n",
    "from sklearn.model_selection import train_test_split\n",
    "\n",
    "train_df, val_test_df = train_test_split(df, test_size=0.3, random_state=RANDOM_STATE)\n",
    "val_df, test_df = train_test_split(val_test_df, test_size=0.5, random_state=RANDOM_STATE)\n",
    "\n",
    "# Transformations\n",
    "transform = transforms.Compose([\n",
    "    transforms.Resize((224, 224)),\n",
    "    transforms.ToTensor(),\n",
    "    transforms.Normalize([0.485, 0.456, 0.406], [0.229, 0.224, 0.225])\n",
    "])\n",
    "\n",
    "from my_utils.CustomDataset import CustomMTLDataset\n",
    "from torch.utils.data import DataLoader\n",
    "\n",
    "train_ds = CustomMTLDataset(train_df, os.path.join(dataset_dir, 'images'), transform=transform)\n",
    "val_ds = CustomMTLDataset(val_df, os.path.join(dataset_dir, 'images'), transform=transform)\n",
    "test_ds = CustomMTLDataset(test_df, os.path.join(dataset_dir, 'images'), transform=transform)\n",
    "\n",
    "train_loader = DataLoader(train_ds, batch_size=8, shuffle=True) \n",
    "test_loader = DataLoader(test_ds, batch_size=8, shuffle=False)\n",
    "val_loader = DataLoader(val_ds, batch_size=8, shuffle=False)"
   ]
  },
  {
   "cell_type": "markdown",
   "metadata": {},
   "source": [
    "---\n",
    "\n",
    "## Model Definition"
   ]
  },
  {
   "cell_type": "code",
   "execution_count": 4,
   "metadata": {},
   "outputs": [],
   "source": [
    "import torch.nn as nn\n",
    "import torchvision.models as models\n",
    "\n",
    "class MTLModelResnet50(nn.Module):\n",
    "    def __init__(self, fabric_dim, wear_dim, color_dim, texture_dim, value_add_dim):\n",
    "        super(MTLModelResnet50, self).__init__()\n",
    "        self.backbone = models.resnet50(weights=models.ResNet50_Weights.IMAGENET1K_V2)\n",
    "        self.backbone.fc = nn.Identity()\n",
    "        self.shared_dim = 2048  # Output of resnet50 without FC\n",
    "\n",
    "        self.heads = nn.ModuleDict({\n",
    "            'fabric': nn.Linear(self.shared_dim, fabric_dim),\n",
    "            'wear': nn.Linear(self.shared_dim, wear_dim),\n",
    "            'color': nn.Linear(self.shared_dim, color_dim),\n",
    "            'texture': nn.Linear(self.shared_dim, texture_dim),\n",
    "            'value_add': nn.Linear(self.shared_dim, value_add_dim),\n",
    "        })\n",
    "\n",
    "    def forward(self, x):\n",
    "        features = self.backbone(x)\n",
    "        return {task: head(features) for task, head in self.heads.items()}\n"
   ]
  },
  {
   "cell_type": "markdown",
   "metadata": {},
   "source": [
    "## Training Setup"
   ]
  },
  {
   "cell_type": "code",
   "execution_count": 5,
   "metadata": {},
   "outputs": [],
   "source": [
    "def calc_class_weights(dataloader, tasks):\n",
    "    total_counts = {task: {'pos': None, 'neg': None} for task in tasks}\n",
    "    \n",
    "    for _, labels in dataloader:\n",
    "        for task in tasks:\n",
    "            # contains (batch_size, num_labels)\n",
    "            label_tensor = labels[task]\n",
    "            if total_counts[task]['pos'] is None:\n",
    "                total_counts[task]['pos'] = label_tensor.sum(dim=0)\n",
    "                total_counts[task]['neg'] = (1 - label_tensor).sum(dim=0)\n",
    "            else:\n",
    "                total_counts[task]['pos'] += label_tensor.sum(dim=0)\n",
    "                total_counts[task]['neg'] += (1 - label_tensor).sum(dim=0)\n",
    "\n",
    "    class_weights = {}\n",
    "    for task in tasks:\n",
    "        pos = total_counts[task]['pos']\n",
    "        neg = total_counts[task]['neg']\n",
    "        weight = neg / (pos + 1e-5)  # avoiding div by zero\n",
    "        class_weights[task] = weight\n",
    "\n",
    "\t# returns Dict[str, Tensor] representing class weights for each task\n",
    "    return class_weights\n",
    "\n",
    "from my_utils.dataset_utils import get_all_labels\n",
    "\n",
    "task_labels = {\n",
    "\t'fabric': get_all_labels(train_df['fabric_types_clean'], allow_empty=False),\n",
    "\t'wear': get_all_labels(train_df['wear_types_clean'], allow_empty=False),\n",
    "\t'color': get_all_labels(train_df['colors_clean'], allow_empty=False),\n",
    "\t'texture': get_all_labels(train_df['textures_clean'], allow_empty=True),\n",
    "\t'value_add': get_all_labels(train_df['value_additions_clean'], allow_empty=True),\n",
    "}\n"
   ]
  },
  {
   "cell_type": "code",
   "execution_count": 6,
   "metadata": {},
   "outputs": [],
   "source": [
    "import torch\n",
    "from sklearn.metrics import f1_score, precision_score, recall_score, accuracy_score, classification_report\n",
    "from tqdm import tqdm\n",
    "import json\n",
    "import numpy as np\n",
    "\n",
    "def run_epoch(model, loader, optimizer, device, is_train=True, threshold=0.5, class_weights=None):\n",
    "\tif is_train:\n",
    "\t\tmodel.train()\n",
    "\telse:\n",
    "\t\tmodel.eval()\n",
    "\n",
    "\ttotal_loss = 0.0\n",
    "\ttotal_unweighted_loss = 0.0\n",
    "\n",
    "\tall_preds = {k: [] for k in model.heads}\n",
    "\tall_targets = {k: [] for k in model.heads}\n",
    "\n",
    "\tfor images, labels in tqdm(loader):\n",
    "\t\timages = images.to(device)\n",
    "\t\tlabels = {k: v.to(device) for k, v in labels.items()}\n",
    "\n",
    "\t\tif is_train:\n",
    "\t\t\toptimizer.zero_grad()\n",
    "\n",
    "\t\twith torch.set_grad_enabled(is_train):\n",
    "\t\t\toutputs = model(images)\n",
    "\t\t\tlosses = []\n",
    "\t\t\tunweighted_losses = []\n",
    "\n",
    "\t\t\tfor task in outputs:\n",
    "\t\t\t\tunweighted_loss = torch.nn.functional.binary_cross_entropy_with_logits(outputs[task], labels[task])\n",
    "\n",
    "\t\t\t\tif class_weights and task in class_weights:\n",
    "\t\t\t\t\tweights = class_weights[task].to(device)\n",
    "\t\t\t\t\tloss = torch.nn.functional.binary_cross_entropy_with_logits(outputs[task], labels[task], weight=weights)\n",
    "\t\t\t\telse:\n",
    "\t\t\t\t\tloss = unweighted_loss\n",
    "\t\t\t\t\t\n",
    "\t\t\t\tlosses.append(loss)\n",
    "\t\t\t\tunweighted_losses.append(unweighted_loss)\n",
    "\n",
    "\t\t\t\tif not is_train:\n",
    "\t\t\t\t\tprobs = torch.sigmoid(outputs[task])\n",
    "\t\t\t\t\tpreds = (probs > threshold).int()\n",
    "\t\t\t\t\tall_preds[task].extend(preds.cpu().numpy())\n",
    "\t\t\t\t\tall_targets[task].extend(labels[task].cpu().numpy())\n",
    "\n",
    "\t\t\tbatch_loss = sum(losses)\n",
    "\t\t\ttotal_loss += batch_loss.item()\n",
    "\n",
    "\t\t\ttotal_unweighted_loss += (sum(unweighted_losses)).item()\n",
    "\n",
    "\t\t\tif is_train:\n",
    "\t\t\t\tbatch_loss.backward()\n",
    "\t\t\t\toptimizer.step()\n",
    "\n",
    "\tavg_loss = total_loss / len(loader)\n",
    "\tavg_unweighted_loss = total_unweighted_loss / len(loader)\n",
    "\n",
    "\tif not is_train:\n",
    "\t\tmetrics = {}\n",
    "\n",
    "\t\tfor task in all_preds:\n",
    "\t\t\t# Class-wise metrics\n",
    "\t\t\treport = classification_report(all_targets[task], all_preds[task], target_names=task_labels[task], output_dict=True, zero_division=0)\n",
    "\n",
    "\t\t\t# Compute predicted support\n",
    "\t\t\tpred_counts = np.sum(np.array(all_preds[task]), axis=0)\n",
    "\t\t\tpredicted_support = dict(zip(task_labels[task], pred_counts.tolist()))\n",
    "\n",
    "\t\t\tmetrics[task] = {\n",
    "\t\t\t\t'f1': f1_score(all_targets[task], all_preds[task], average='micro', zero_division=0),\n",
    "\t\t\t\t'precision': precision_score(all_targets[task], all_preds[task], average='micro', zero_division=0),\n",
    "\t\t\t\t'recall': recall_score(all_targets[task], all_preds[task], average='micro', zero_division=0),\n",
    "\t\t\t\t'accuracy': accuracy_score(all_targets[task], all_preds[task]),\n",
    "\n",
    "\t\t\t\t'classwise_metrics':  {\n",
    "\t\t\t\t\tclass_label : {\n",
    "\t\t\t\t\t\t'precision': report[class_label]['precision'],\n",
    "\t\t\t\t\t\t'recall': report[class_label]['recall'],\n",
    "\t\t\t\t\t\t'f1': report[class_label]['f1-score'],\n",
    "\t\t\t\t\t\t'support': report[class_label]['support'],\n",
    "\t\t\t\t\t\t'predicted_support': predicted_support[class_label],\n",
    "\t\t\t\t\t} for class_label in task_labels[task]\n",
    "\t\t\t\t}\n",
    "\t\t\t}\n",
    "\n",
    "\t\treturn avg_loss, metrics\n",
    "\t\n",
    "\telse:\n",
    "\t\treturn avg_loss, avg_unweighted_loss\n",
    "\n",
    "\n",
    "def train_model(model, train_loader, val_loader, optimizer, device, num_epochs=10, threshold=0.5, use_class_weights=False, verbose=True, model_name=''):\n",
    "\tmodel.to(device)\n",
    "\tbest_val_loss = float('inf')\n",
    "\tpatience = 3\n",
    "\tpatience_counter = 0\n",
    "\n",
    "\tif not model_name:\n",
    "\t\tmodel_name = model.__class__.__name__ + pd.Timestamp.now().strftime(\"%Y%m%d-%H%M%S\")\n",
    "\n",
    "\tbest_model_path = os.path.join('../data', 'model_weights', f'best_model-{model_name}.pt')\n",
    "\thistory_path = os.path.join('../data', 'model_weights', f'history-{model_name}.json')\n",
    "\n",
    "\thistory = {\n",
    "\t\t'train_loss': [],\n",
    "\t\t'unweighted_train_loss': [],\n",
    "\t\t'val_loss': [],\n",
    "\t\t'val_metrics': [],\n",
    "\t\t'best_epoch': 0\n",
    "\t}\n",
    "\n",
    "\tclass_weights = calc_class_weights(train_loader, model.heads.keys()) if use_class_weights else None\n",
    "\n",
    "\tfor epoch in range(num_epochs):\n",
    "\t\tprint(f\"\\nEpoch {epoch+1}/{num_epochs}\")\n",
    "\t\ttrain_loss, unweighted_train_loss = run_epoch(model, train_loader, optimizer, device, is_train=True, class_weights=class_weights)\n",
    "\t\tval_loss, val_metrics = run_epoch(model, val_loader, optimizer, device, is_train=False, threshold=threshold)\n",
    "\n",
    "\t\thistory['train_loss'].append(train_loss)\n",
    "\t\thistory['unweighted_train_loss'].append(unweighted_train_loss)\n",
    "\t\thistory['val_loss'].append(val_loss)\n",
    "\t\thistory['val_metrics'].append(val_metrics)\n",
    "\n",
    "\t\tprint(f\"Train Loss: {train_loss:.4f}\")\n",
    "\t\tprint(f\"Val Loss: {val_loss:.4f}\")\n",
    "\n",
    "\t\tif verbose:\n",
    "\t\t\tfor task, task_metrics in val_metrics.items():\n",
    "\t\t\t\tprint(\"Metrics for task:\", task)\n",
    "\t\t\t\tfor metric_name, metric_value in task_metrics.items():\n",
    "\t\t\t\t\tprint(f\"\\t[Val {metric_name}]: {metric_value:.4f}\")\n",
    "\n",
    "\t\t# Early stopping\n",
    "\t\tif val_loss < best_val_loss:\n",
    "\t\t\tbest_val_loss = val_loss\n",
    "\t\t\tpatience_counter = 0\n",
    "\t\t\ttorch.save(model.state_dict(), best_model_path)\n",
    "\t\t\thistory['best_epoch'] = epoch\n",
    "\t\telse:\n",
    "\t\t\tpatience_counter += 1\n",
    "\t\t\tif patience_counter >= patience:\n",
    "\t\t\t\tprint(\"Early stopping triggered.\")\n",
    "\t\t\t\tbreak\n",
    "\n",
    "\t# Save the training history\n",
    "\twith open(history_path, 'w') as f:\n",
    "\t\tjson.dump(history, f)\n",
    "\t\t\n",
    "\treturn history\n",
    "\n",
    "\n",
    "def evaluate_on_test(model, model_weight_path, test_loader, device, threshold=0.5, verbose=False):\n",
    "\tmodel.to(device)\n",
    "\n",
    "\t# Load saved weights\n",
    "\tmodel.load_state_dict(torch.load(model_weight_path, map_location=device))\n",
    "\n",
    "\twith torch.no_grad():\n",
    "\t\ttest_loss, test_metrics = run_epoch(model=model, loader=test_loader, optimizer=None, device=device, is_train=False, threshold=threshold)\n",
    "\n",
    "\tif verbose:\n",
    "\t\tprint(f\"\\nTest Set Performance:\\nTest Loss: {test_loss:.4f}\")\n",
    "\t\tfor task, task_metrics in test_metrics.items():\n",
    "\t\t\tprint(f\"\\nTask: {task}\")\n",
    "\t\t\tfor metric_name, value in task_metrics.items():\n",
    "\t\t\t\tif metric_name == 'f1':\n",
    "\t\t\t\t\tprint(f\"  {metric_name}: {value:.4f}\")\n",
    "\t\t\t\n",
    "\ttest_metric_path = os.path.join('../data', 'model_weights', f'test_metrics-{model_weight_path.split(\"/\")[-1]}.json')\n",
    "\n",
    "\twith open(test_metric_path, 'w') as f:\n",
    "\t\tjson.dump({'test_loss': test_loss, 'test_metrics': test_metrics}, f)\n",
    "\t\t\n",
    "\treturn test_loss, test_metrics"
   ]
  },
  {
   "cell_type": "markdown",
   "metadata": {},
   "source": [
    "## Training Run"
   ]
  },
  {
   "cell_type": "code",
   "execution_count": 8,
   "metadata": {},
   "outputs": [],
   "source": [
    "model = MTLModelResnet50(\n",
    "\tfabric_dim=len(train_ds.label_columns['fabric']),\n",
    "\twear_dim=len(train_ds.label_columns['wear']),\n",
    "\tcolor_dim=len(train_ds.label_columns['color']),\n",
    "\ttexture_dim=len(train_ds.label_columns['texture']),\n",
    "\tvalue_add_dim=len(train_ds.label_columns['value_add']),\n",
    ")\n",
    "\n",
    "for param in model.backbone.parameters():\n",
    "\tparam.requires_grad = True\n",
    "\n",
    "optimizer = optim.Adam(model.parameters(), lr=0.001)\n",
    "\n",
    "device = torch.device(\"cuda\" if torch.cuda.is_available() else \"cpu\")"
   ]
  },
  {
   "cell_type": "code",
   "execution_count": 9,
   "metadata": {},
   "outputs": [
    {
     "name": "stdout",
     "output_type": "stream",
     "text": [
      "\n",
      "Epoch 1/10\n"
     ]
    },
    {
     "name": "stderr",
     "output_type": "stream",
     "text": [
      "100%|██████████| 289/289 [00:25<00:00, 11.25it/s]\n",
      "100%|██████████| 62/62 [00:04<00:00, 14.09it/s]\n"
     ]
    },
    {
     "name": "stdout",
     "output_type": "stream",
     "text": [
      "Train Loss: 14.5794\n",
      "Val Loss: 1.5372\n",
      "\n",
      "Epoch 2/10\n"
     ]
    },
    {
     "name": "stderr",
     "output_type": "stream",
     "text": [
      "100%|██████████| 289/289 [00:26<00:00, 11.10it/s]\n",
      "100%|██████████| 62/62 [00:04<00:00, 13.81it/s]\n"
     ]
    },
    {
     "name": "stdout",
     "output_type": "stream",
     "text": [
      "Train Loss: 12.0721\n",
      "Val Loss: 1.3067\n",
      "\n",
      "Epoch 3/10\n"
     ]
    },
    {
     "name": "stderr",
     "output_type": "stream",
     "text": [
      "100%|██████████| 289/289 [00:27<00:00, 10.52it/s]\n",
      "100%|██████████| 62/62 [00:04<00:00, 14.23it/s]\n"
     ]
    },
    {
     "name": "stdout",
     "output_type": "stream",
     "text": [
      "Train Loss: 10.8587\n",
      "Val Loss: 1.2354\n",
      "\n",
      "Epoch 4/10\n"
     ]
    },
    {
     "name": "stderr",
     "output_type": "stream",
     "text": [
      "100%|██████████| 289/289 [00:25<00:00, 11.34it/s]\n",
      "100%|██████████| 62/62 [00:04<00:00, 13.65it/s]\n"
     ]
    },
    {
     "name": "stdout",
     "output_type": "stream",
     "text": [
      "Train Loss: 10.1714\n",
      "Val Loss: 1.2261\n",
      "\n",
      "Epoch 5/10\n"
     ]
    },
    {
     "name": "stderr",
     "output_type": "stream",
     "text": [
      "100%|██████████| 289/289 [00:27<00:00, 10.38it/s]\n",
      "100%|██████████| 62/62 [00:04<00:00, 14.25it/s]\n"
     ]
    },
    {
     "name": "stdout",
     "output_type": "stream",
     "text": [
      "Train Loss: 9.3562\n",
      "Val Loss: 1.1757\n",
      "\n",
      "Epoch 6/10\n"
     ]
    },
    {
     "name": "stderr",
     "output_type": "stream",
     "text": [
      "100%|██████████| 289/289 [00:25<00:00, 11.13it/s]\n",
      "100%|██████████| 62/62 [00:04<00:00, 14.03it/s]\n"
     ]
    },
    {
     "name": "stdout",
     "output_type": "stream",
     "text": [
      "Train Loss: 8.5960\n",
      "Val Loss: 1.2232\n",
      "\n",
      "Epoch 7/10\n"
     ]
    },
    {
     "name": "stderr",
     "output_type": "stream",
     "text": [
      "100%|██████████| 289/289 [00:25<00:00, 11.17it/s]\n",
      "100%|██████████| 62/62 [00:04<00:00, 14.12it/s]\n"
     ]
    },
    {
     "name": "stdout",
     "output_type": "stream",
     "text": [
      "Train Loss: 7.6996\n",
      "Val Loss: 1.2130\n",
      "\n",
      "Epoch 8/10\n"
     ]
    },
    {
     "name": "stderr",
     "output_type": "stream",
     "text": [
      "100%|██████████| 289/289 [00:25<00:00, 11.22it/s]\n",
      "100%|██████████| 62/62 [00:04<00:00, 14.35it/s]\n"
     ]
    },
    {
     "name": "stdout",
     "output_type": "stream",
     "text": [
      "Train Loss: 6.4776\n",
      "Val Loss: 1.1795\n",
      "Early stopping triggered.\n"
     ]
    }
   ],
   "source": [
    "history = train_model(\n",
    "    model=model,\n",
    "    train_loader=train_loader,\n",
    "    val_loader=val_loader,\n",
    "    optimizer=optimizer,\n",
    "    device=device,\n",
    "    num_epochs=10,\n",
    "    threshold=0.5,\n",
    "\tuse_class_weights=True,\n",
    "\tverbose=False,\n",
    "\tmodel_name='resnet50_mtl_th0.5_cw'\n",
    ")\n"
   ]
  },
  {
   "cell_type": "markdown",
   "metadata": {},
   "source": [
    "## Evaluation"
   ]
  },
  {
   "cell_type": "code",
   "execution_count": 10,
   "metadata": {},
   "outputs": [
    {
     "data": {
      "image/png": "[encoded data removed]",
      "text/plain": [
       "<Figure size 640x480 with 1 Axes>"
      ]
     },
     "metadata": {},
     "output_type": "display_data"
    }
   ],
   "source": [
    "import matplotlib.pyplot as plt\n",
    "\n",
    "from my_utils.plot_utils import plot_train_val_loss\n",
    "\n",
    "plot_train_val_loss(history)"
   ]
  },
  {
   "cell_type": "code",
   "execution_count": 11,
   "metadata": {},
   "outputs": [
    {
     "data": {
      "image/png": "[encoded data removed]",
      "text/plain": [
       "<Figure size 1000x600 with 1 Axes>"
      ]
     },
     "metadata": {},
     "output_type": "display_data"
    }
   ],
   "source": [
    "from my_utils.plot_utils import compare_tasks_for_metric\n",
    "\n",
    "compare_tasks_for_metric(history, 'f1', show_losses=False)"
   ]
  },
  {
   "cell_type": "code",
   "execution_count": 14,
   "metadata": {},
   "outputs": [
    {
     "data": {
      "text/html": [
       "<div>\n",
       "<style scoped>\n",
       "    .dataframe tbody tr th:only-of-type {\n",
       "        vertical-align: middle;\n",
       "    }\n",
       "\n",
       "    .dataframe tbody tr th {\n",
       "        vertical-align: top;\n",
       "    }\n",
       "\n",
       "    .dataframe thead th {\n",
       "        text-align: right;\n",
       "    }\n",
       "</style>\n",
       "<table border=\"1\" class=\"dataframe\">\n",
       "  <thead>\n",
       "    <tr style=\"text-align: right;\">\n",
       "      <th></th>\n",
       "      <th>Metric</th>\n",
       "      <th>Task</th>\n",
       "      <th>Baseline (ResNet18)</th>\n",
       "      <th>Resnet 50</th>\n",
       "      <th>Delta</th>\n",
       "    </tr>\n",
       "  </thead>\n",
       "  <tbody>\n",
       "    <tr>\n",
       "      <th>0</th>\n",
       "      <td>f1</td>\n",
       "      <td>fabric</td>\n",
       "      <td>0.48</td>\n",
       "      <td>0.47</td>\n",
       "      <td>-0.02</td>\n",
       "    </tr>\n",
       "    <tr>\n",
       "      <th>1</th>\n",
       "      <td>f1</td>\n",
       "      <td>wear</td>\n",
       "      <td>0.85</td>\n",
       "      <td>0.77</td>\n",
       "      <td>-0.07</td>\n",
       "    </tr>\n",
       "    <tr>\n",
       "      <th>2</th>\n",
       "      <td>f1</td>\n",
       "      <td>color</td>\n",
       "      <td>0.48</td>\n",
       "      <td>0.43</td>\n",
       "      <td>-0.05</td>\n",
       "    </tr>\n",
       "    <tr>\n",
       "      <th>3</th>\n",
       "      <td>f1</td>\n",
       "      <td>texture</td>\n",
       "      <td>0.58</td>\n",
       "      <td>0.54</td>\n",
       "      <td>-0.05</td>\n",
       "    </tr>\n",
       "    <tr>\n",
       "      <th>4</th>\n",
       "      <td>f1</td>\n",
       "      <td>value_add</td>\n",
       "      <td>0.73</td>\n",
       "      <td>0.77</td>\n",
       "      <td>0.05</td>\n",
       "    </tr>\n",
       "    <tr>\n",
       "      <th>5</th>\n",
       "      <td>accuracy</td>\n",
       "      <td>fabric</td>\n",
       "      <td>0.38</td>\n",
       "      <td>0.34</td>\n",
       "      <td>-0.04</td>\n",
       "    </tr>\n",
       "    <tr>\n",
       "      <th>6</th>\n",
       "      <td>accuracy</td>\n",
       "      <td>wear</td>\n",
       "      <td>0.79</td>\n",
       "      <td>0.69</td>\n",
       "      <td>-0.10</td>\n",
       "    </tr>\n",
       "    <tr>\n",
       "      <th>7</th>\n",
       "      <td>accuracy</td>\n",
       "      <td>color</td>\n",
       "      <td>0.09</td>\n",
       "      <td>0.06</td>\n",
       "      <td>-0.04</td>\n",
       "    </tr>\n",
       "    <tr>\n",
       "      <th>8</th>\n",
       "      <td>accuracy</td>\n",
       "      <td>texture</td>\n",
       "      <td>0.35</td>\n",
       "      <td>0.29</td>\n",
       "      <td>-0.05</td>\n",
       "    </tr>\n",
       "    <tr>\n",
       "      <th>9</th>\n",
       "      <td>accuracy</td>\n",
       "      <td>value_add</td>\n",
       "      <td>0.65</td>\n",
       "      <td>0.74</td>\n",
       "      <td>0.09</td>\n",
       "    </tr>\n",
       "  </tbody>\n",
       "</table>\n",
       "</div>"
      ],
      "text/plain": [
       "     Metric       Task  Baseline (ResNet18)  Resnet 50  Delta\n",
       "0        f1     fabric                 0.48       0.47  -0.02\n",
       "1        f1       wear                 0.85       0.77  -0.07\n",
       "2        f1      color                 0.48       0.43  -0.05\n",
       "3        f1    texture                 0.58       0.54  -0.05\n",
       "4        f1  value_add                 0.73       0.77   0.05\n",
       "5  accuracy     fabric                 0.38       0.34  -0.04\n",
       "6  accuracy       wear                 0.79       0.69  -0.10\n",
       "7  accuracy      color                 0.09       0.06  -0.04\n",
       "8  accuracy    texture                 0.35       0.29  -0.05\n",
       "9  accuracy  value_add                 0.65       0.74   0.09"
      ]
     },
     "execution_count": 14,
     "metadata": {},
     "output_type": "execute_result"
    }
   ],
   "source": [
    "from my_utils.eval_utils import parse_task_metrics\n",
    "from IPython.display import display\n",
    "from my_utils.eval_utils import load_task_metrics_for_test, compare_task_with_baseline\n",
    "import pandas as pd\n",
    "\n",
    "current_model_metrics, current_model_claswise_metrics = parse_task_metrics(history)\n",
    "baseline_metrics, baseline_classwise_metrics = load_task_metrics_for_test('../data/model_weights/test_metrics-best_model-resnet18_baseline.pt.json')\n",
    "\n",
    "compare_task_with_baseline(baseline_metrics, current_model_metrics, metrics=['f1', 'accuracy'], baseline_model_name='ResNet18', new_model_name='Resnet 50')"
   ]
  }
 ],
 "metadata": {
  "kernelspec": {
   "display_name": "pytorch",
   "language": "python",
   "name": "python3"
  },
  "language_info": {
   "codemirror_mode": {
    "name": "ipython",
    "version": 3
   },
   "file_extension": ".py",
   "mimetype": "text/x-python",
   "name": "python",
   "nbconvert_exporter": "python",
   "pygments_lexer": "ipython3",
   "version": "3.12.6"
  }
 },
 "nbformat": 4,
 "nbformat_minor": 2
}
