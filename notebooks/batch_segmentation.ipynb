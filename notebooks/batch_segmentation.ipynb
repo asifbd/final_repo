{
 "cells": [
  {
   "cell_type": "markdown",
   "metadata": {},
   "source": [
    "# Overview\n",
    "\n",
    "This notebook is used to analyze the raw data scrapped from the website, and eventually proceeded to segment the related images."
   ]
  },
  {
   "cell_type": "code",
   "execution_count": null,
   "metadata": {},
   "outputs": [],
   "source": [
    "from dotenv import load_dotenv\n",
    "\n",
    "load_dotenv()"
   ]
  },
  {
   "cell_type": "code",
   "execution_count": null,
   "metadata": {},
   "outputs": [],
   "source": [
    "import os\n",
    "import mysql.connector\n",
    "\n",
    "conn = mysql.connector.connect(host=os.getenv(\"MYSQL_HOST\") , user=os.getenv(\"MYSQL_USER\"), password=os.getenv(\"MYSQL_PASSWORD\"), database=os.getenv(\"MYSQL_DB\"), auth_plugin='mysql_native_password')\n",
    "\n",
    "cursor = conn.cursor()"
   ]
  },
  {
   "cell_type": "code",
   "execution_count": null,
   "metadata": {},
   "outputs": [],
   "source": [
    "query = \"\"\"\n",
    "\n",
    "SELECT p.id, p.product_name, p.category, p.sub_category, r.details \n",
    "FROM products p \n",
    "JOIN raw_details r ON p.id = r.product_id\n",
    "\n",
    "WHERE p.category in (\"Saree\", \"Panjabi\", \"Shalwar Kameez\", \"Kurta\", \"Skirts\", \"Tops\", \"Scarves\", \"Coats & Jackets\", \"Shawls\", \"Nightwear\", \"Maternity\", \"Fabric (Metres)\")\n",
    "\n",
    "\"\"\"\n",
    "\n",
    "cursor.execute(query)\n",
    "\n",
    "rows = cursor.fetchall()\n",
    "columns = [i[0] for i in cursor.description]\n",
    "\n",
    "print(f\"{len(rows)} rows fetched\")\n",
    "print(f\"Columns: {columns}\")"
   ]
  },
  {
   "cell_type": "code",
   "execution_count": null,
   "metadata": {},
   "outputs": [],
   "source": [
    "import pandas as pd\n",
    "\n",
    "df = pd.DataFrame(rows, columns=columns)\n",
    "df"
   ]
  },
  {
   "cell_type": "code",
   "execution_count": null,
   "metadata": {},
   "outputs": [],
   "source": [
    "df_normalized = pd.json_normalize(df['details'].apply(eval))\n",
    "\n",
    "df_normalized.head(n=3)"
   ]
  },
  {
   "cell_type": "code",
   "execution_count": null,
   "metadata": {},
   "outputs": [],
   "source": [
    "# Adds the normalized columns to the original DataFrame\n",
    "df = pd.concat([df, df_normalized], axis=1)\n",
    "df.head(n=2)"
   ]
  },
  {
   "cell_type": "code",
   "execution_count": null,
   "metadata": {},
   "outputs": [],
   "source": [
    "df_selected = df[[\n",
    "\t'id',\n",
    "\t'category',\n",
    "\t'sub_category',\n",
    "\t'title',\n",
    "\t'description',\n",
    "\t'images',\n",
    "\t'specs.Colour',\n",
    "\t'specs.Fabric',\n",
    "\t'specs.Value Addition',\n",
    "\t'specs.Cut /Fit',\n",
    "\t'specs.Collar/Neck',\n",
    "\t'specs.Sleeve',\n",
    "\t'specs.Bottom Colour',\n",
    "\t'specs.Bottom Fabric',\n",
    "\t'specs.Dupatta Colour',\n",
    "\t'specs.Dupatta Fabric'\n",
    "]]\n",
    "\n",
    "df_selected.sample(n=5)"
   ]
  },
  {
   "cell_type": "code",
   "execution_count": null,
   "metadata": {},
   "outputs": [],
   "source": [
    "def get_annotation_candidates(conn):\n",
    "\tcursor = conn.cursor()\n",
    "\tcursor.execute(\"\"\"SELECT product_id FROM annotation_status WHERE annotated=0 and flagged=0\"\"\")\n",
    "\trows = cursor.fetchall()\t\n",
    "\tids = [row[0] for row in rows]\n",
    "\t\n",
    "\treturn ids\n",
    "\n",
    "\n",
    "def get_segmentation_candidates(conn):\n",
    "\tcursor = conn.cursor()\n",
    "\tcursor.execute(\"\"\"SELECT product_id FROM annotation_status WHERE segmented=0 and flagged=0\"\"\")\n",
    "\trows = cursor.fetchall()\t\n",
    "\tids = [row[0] for row in rows]\n",
    "\t\n",
    "\treturn ids\n",
    "\n",
    "def get_item(id):\n",
    "\t# Select the row from df_selected where id matches the given id\n",
    "\titem = df_selected[df_selected['id'] == id]\n",
    "\tif not item.empty:\n",
    "\t\treturn item.iloc[0]\n",
    "\telse:\n",
    "\t\treturn None\n"
   ]
  },
  {
   "cell_type": "code",
   "execution_count": null,
   "metadata": {},
   "outputs": [],
   "source": [
    "get_item(1)"
   ]
  },
  {
   "cell_type": "code",
   "execution_count": null,
   "metadata": {},
   "outputs": [],
   "source": [
    "candidates = get_segmentation_candidates(conn)"
   ]
  },
  {
   "cell_type": "code",
   "execution_count": null,
   "metadata": {},
   "outputs": [],
   "source": [
    "len(candidates)"
   ]
  },
  {
   "cell_type": "code",
   "execution_count": null,
   "metadata": {},
   "outputs": [],
   "source": [
    "def resolve_local_image_path(image_url, image_dir):\n",
    "\t# url \"https://www.aarong.com/media/catalog/product/0/5/0560000072957_1.jpg?optimize=high&bg-color=255,255,255&fit=bounds&height=667&width=500&canvas=500:667\"\n",
    "\t# resolved as f\"{image_dir}/0560000072957_1.jpg\"\n",
    "\timage_name = image_url.split(\"/\")[-1].split(\"?\")[0]\n",
    "\treturn f\"{image_dir}/{image_name}\""
   ]
  },
  {
   "cell_type": "code",
   "execution_count": null,
   "metadata": {},
   "outputs": [],
   "source": [
    "for id in candidates:\n",
    "\titem = get_item(id)\n",
    "\n",
    "\tprint(item)\n",
    "\tbreak"
   ]
  },
  {
   "cell_type": "code",
   "execution_count": null,
   "metadata": {},
   "outputs": [],
   "source": [
    "from transformers import pipeline\n",
    "from PIL import Image\n",
    "import numpy as np\n",
    "import os\n",
    "\n",
    "class SegmentationHelper:\n",
    "\tdef __init__(self, data_dir, segmented_dir, label_combinations):\n",
    "\t\tself.data_dir = data_dir\n",
    "\t\tself.segmented_dir = segmented_dir\n",
    "\t\tself.label_combinations = label_combinations\n",
    "\n",
    "\t\tself.segmenter = pipeline(model=\"mattmdjaga/segformer_b2_clothes\")\n",
    "\n",
    "\tdef get_masked_image(self, segments, image, labels):\n",
    "\t\tmask_list = []\n",
    "\t\tfor s in segments:\n",
    "\t\t\tif s['label'] in labels:\n",
    "\t\t\t\tmask_list.append(s['mask'])\n",
    "\n",
    "\t\tif len(mask_list) == 0:\n",
    "\t\t\treturn None\n",
    "\n",
    "\t\tfinal_mask = np.zeros_like(mask_list[0])\n",
    "\n",
    "\t\tfor mask in mask_list:\n",
    "\t\t\tfinal_mask += mask\n",
    "\n",
    "\t\t#final_mask = np.clip(final_mask, 0, 1)\n",
    "\n",
    "\t\tfinal_mask = Image.fromarray(final_mask)\n",
    "\t\tmasked_image = image.copy()\n",
    "\n",
    "\t\tmasked_image.putalpha(final_mask)\n",
    "\n",
    "\t\treturn masked_image\n",
    "\n",
    "\tdef get_segmented_images(self, image_path):\n",
    "\t\timage = Image.open(image_path)\n",
    "\t\t\n",
    "\t\t# Perform segmentation\n",
    "\t\tsegments = self.segmenter(image)\n",
    "\n",
    "\t\tsegmented_images = {}\n",
    "\n",
    "\t\tfor key, labels in self.label_combinations.items():\n",
    "\t\t\t#print(f\"Getting segment {key} with labels: {labels}\")\n",
    "\t\t\tmasked_image = self.get_masked_image(segments, image, labels)\n",
    "\n",
    "\t\t\tif masked_image is not None:\n",
    "\t\t\t\tsegmented_images[key] = masked_image\n",
    "\n",
    "\t\treturn segmented_images\n"
   ]
  },
  {
   "cell_type": "code",
   "execution_count": null,
   "metadata": {},
   "outputs": [],
   "source": [
    "seg_helper = SegmentationHelper(\n",
    "    data_dir=\"../data/raw_images/resized\",\n",
    "    segmented_dir=\"../data/raw_images/segmented\",\n",
    "    label_combinations={\n",
    "        \"full\": [\"Upper-clothes\", \"Skirt\", \"Pants\", \"Dress\", \"Scarf\"],\n",
    "        \"dress\": [\"Dress\"],\n",
    "        \"upper\": [\"Upper-clothes\"],\n",
    "        \"lower\": [\"Skirt\", \"Pants\"],\n",
    "    }\n",
    ")"
   ]
  },
  {
   "cell_type": "code",
   "execution_count": null,
   "metadata": {},
   "outputs": [],
   "source": [
    "import os\n",
    "\n",
    "image_dir = seg_helper.data_dir\n",
    "segmented_dir = seg_helper.segmented_dir\n",
    "\n",
    "candidates = get_segmentation_candidates(conn)\n",
    "\n",
    "for id in candidates[:500]:\n",
    "\titem = get_item(id)\n",
    "\t\n",
    "\t# Get the list of images\n",
    "\tall_images = [resolve_local_image_path(image_url, image_dir) for image_url in item['images']]\n",
    "\n",
    "\t#print(all_images)\n",
    "\n",
    "\t# Generate segments for each image, store them in respective folder\n",
    "\tfor image_path in all_images:\n",
    "\t\tif os.path.exists(image_path):\n",
    "\t\t\tsegmented_images = seg_helper.get_segmented_images(image_path)\n",
    "\n",
    "\t\t\tfor key, masked_image in segmented_images.items():\n",
    "\t\t\t\t#print(f\"Segment '{key}' for image: {image_path}\")\n",
    "\t\t\t\t#masked_image.show()\n",
    "\n",
    "\t\t\t\t# Save masked_image to file, use original image file name as dir name\n",
    "\t\t\t\torig_image_file_name = os.path.basename(image_path)\n",
    "\t\t\t\toutput_dir = os.path.join(segmented_dir, orig_image_file_name)\n",
    "\n",
    "\t\t\t\tif not os.path.exists(output_dir):\n",
    "\t\t\t\t\tos.makedirs(output_dir)\n",
    "\n",
    "\t\t\t\tsegmented_file_path = os.path.join(output_dir, f\"{orig_image_file_name}___{key}.png\")\n",
    "\t\t\t\tmasked_image.save(segmented_file_path)\n",
    "\n",
    "\t\n",
    "\t# Update db, mark segmented = 1\n",
    "\tcursor = conn.cursor()\n",
    "\tcursor.execute(f\"\"\"UPDATE annotation_status SET segmented=1 WHERE product_id={id}\"\"\")\n",
    "\tconn.commit()\n"
   ]
  }
 ],
 "metadata": {
  "kernelspec": {
   "display_name": "pytorch",
   "language": "python",
   "name": "python3"
  },
  "language_info": {
   "codemirror_mode": {
    "name": "ipython",
    "version": 3
   },
   "file_extension": ".py",
   "mimetype": "text/x-python",
   "name": "python",
   "nbconvert_exporter": "python",
   "pygments_lexer": "ipython3",
   "version": "3.12.6"
  }
 },
 "nbformat": 4,
 "nbformat_minor": 2
}
