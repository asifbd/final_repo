{
 "cells": [
  {
   "cell_type": "code",
   "execution_count": 1,
   "metadata": {},
   "outputs": [],
   "source": [
    "# Iterate over all the files in ../data/aarong_all_images\n",
    "# and find the unique resolutions\n",
    "\n",
    "import os\n",
    "\n",
    "def get_image_resolutions(directory):\n",
    "\tresolutions = set()\n",
    "\tfor root, dirs, files in os.walk(directory):\n",
    "\t\tfor file in files:\n",
    "\t\t\tif file.endswith(('.jpg', '.jpeg', '.png')):\n",
    "\t\t\t\tfilepath = os.path.join(root, file)\n",
    "\t\t\t\ttry:\n",
    "\t\t\t\t\tfrom PIL import Image\n",
    "\t\t\t\t\twith Image.open(filepath) as img:\n",
    "\t\t\t\t\t\tresolutions.add(img.size)\n",
    "\t\t\t\texcept Exception as e:\n",
    "\t\t\t\t\tprint(f\"Error processing {filepath}: {e}\")\n",
    "\treturn resolutions\n",
    "\n",
    "\n",
    "\n"
   ]
  },
  {
   "cell_type": "code",
   "execution_count": null,
   "metadata": {},
   "outputs": [
    {
     "data": {
      "text/plain": [
       "{(262, 262),\n",
       " (756, 1200),\n",
       " (900, 1200),\n",
       " (1020, 1776),\n",
       " (1080, 1440),\n",
       " (1120, 1776),\n",
       " (1214, 1926),\n",
       " (1278, 2028),\n",
       " (1600, 2400),\n",
       " (1800, 2399),\n",
       " (1800, 2400),\n",
       " (1804, 2405),\n",
       " (1860, 2480),\n",
       " (2480, 3508),\n",
       " (4379, 6568),\n",
       " (4480, 6720),\n",
       " (5464, 7808),\n",
       " (5464, 7820),\n",
       " (5464, 8192)}"
      ]
     },
     "execution_count": 2,
     "metadata": {},
     "output_type": "execute_result"
    }
   ],
   "source": [
    "get_image_resolutions('../data/raw_images/aarong_all_images')"
   ]
  },
  {
   "cell_type": "code",
   "execution_count": null,
   "metadata": {},
   "outputs": [
    {
     "name": "stdout",
     "output_type": "stream",
     "text": [
      "Resizing completed!\n"
     ]
    }
   ],
   "source": [
    "import cv2\n",
    "import os\n",
    "import glob\n",
    "\n",
    "# Path to input images\n",
    "input_folder = '../data/raw_images/aarong_all_images'\n",
    "output_folder = \"../data/raw_images/resized\"\n",
    "\n",
    "# Create output folder if not exists\n",
    "os.makedirs(output_folder, exist_ok=True)\n",
    "\n",
    "# Get all image paths\n",
    "image_paths = glob.glob(f\"{input_folder}/*\")\n",
    "\n",
    "# Resize keeping aspect ratio\n",
    "for img_path in image_paths:\n",
    "    img = cv2.imread(img_path)\n",
    "    if img is None:\n",
    "        continue  # Skip unreadable images\n",
    "    \n",
    "    h, w = img.shape[:2]\n",
    "\n",
    "    # Compute scale factor\n",
    "    scale = 512 / max(w, h)\n",
    "\n",
    "    # Compute new size\n",
    "    new_w = int(w * scale)\n",
    "    new_h = int(h * scale)\n",
    "\n",
    "    # Resize image\n",
    "    resized_img = cv2.resize(img, (new_w, new_h), interpolation=cv2.INTER_AREA)\n",
    "\n",
    "    # Save resized image\n",
    "    filename = os.path.basename(img_path)\n",
    "    cv2.imwrite(os.path.join(output_folder, filename), resized_img)\n",
    "\n",
    "print(\"Resizing completed!\")\n"
   ]
  }
 ],
 "metadata": {
  "kernelspec": {
   "display_name": "pytorch",
   "language": "python",
   "name": "python3"
  },
  "language_info": {
   "codemirror_mode": {
    "name": "ipython",
    "version": 3
   },
   "file_extension": ".py",
   "mimetype": "text/x-python",
   "name": "python",
   "nbconvert_exporter": "python",
   "pygments_lexer": "ipython3",
   "version": "3.12.6"
  }
 },
 "nbformat": 4,
 "nbformat_minor": 2
}
