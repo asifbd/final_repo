{
 "cells": [
  {
   "cell_type": "markdown",
   "metadata": {},
   "source": [
    "This notebook attempts to refactor the Segmentation code to convert it to a class that can be reused in other notebooks."
   ]
  },
  {
   "cell_type": "code",
   "execution_count": 1,
   "metadata": {},
   "outputs": [],
   "source": [
    "from transformers import pipeline\n",
    "from PIL import Image\n",
    "import numpy as np\n",
    "import os"
   ]
  },
  {
   "cell_type": "code",
   "execution_count": 2,
   "metadata": {},
   "outputs": [
    {
     "name": "stderr",
     "output_type": "stream",
     "text": [
      "Using a slow image processor as `use_fast` is unset and a slow processor was saved with this model. `use_fast=True` will be the default behavior in v4.48, even if the model was saved with a slow processor. This will result in minor differences in outputs. You'll still be able to use a slow processor with `use_fast=False`.\n",
      "Device set to use cuda:0\n"
     ]
    }
   ],
   "source": [
    "segmenter = pipeline(model=\"mattmdjaga/segformer_b2_clothes\")"
   ]
  },
  {
   "cell_type": "code",
   "execution_count": 22,
   "metadata": {},
   "outputs": [],
   "source": [
    "def get_masked_image(segments, image, labels):\n",
    "\tmask_list = []\n",
    "\tfor s in segments:\n",
    "\t\tif s['label'] in labels:\n",
    "\t\t\tmask_list.append(s['mask'])\n",
    "\n",
    "\tif len(mask_list) == 0:\n",
    "\t\treturn None\n",
    "\n",
    "\tfinal_mask = np.zeros_like(mask_list[0])\n",
    "\n",
    "\tfor mask in mask_list:\n",
    "\t\tfinal_mask += mask\n",
    "\n",
    "\t#final_mask = np.clip(final_mask, 0, 1)\n",
    "\n",
    "\tfinal_mask = Image.fromarray(final_mask)\n",
    "\tmasked_image = image.copy()\n",
    "\n",
    "\tmasked_image.putalpha(final_mask)\n",
    "\n",
    "\treturn masked_image"
   ]
  },
  {
   "cell_type": "code",
   "execution_count": 23,
   "metadata": {},
   "outputs": [],
   "source": [
    "def get_segmented_images(image_path, label_combinations):\n",
    "\t# Load the image\n",
    "\t#image = Image.open(image_path).convert(\"RGB\")\n",
    "\timage = Image.open(image_path)\n",
    "\t\n",
    "\t# Perform segmentation\n",
    "\tsegments = segmenter(image)\n",
    "\n",
    "\tsegmented_images = {}\n",
    "\n",
    "\tfor key, labels in label_combinations.items():\n",
    "\t\t#print(f\"Getting segment {key} with labels: {labels}\")\n",
    "\t\tmasked_image = get_masked_image(segments, image, labels)\n",
    "\n",
    "\t\tif masked_image is not None:\n",
    "\t\t\tsegmented_images[key] = masked_image\n",
    "\n",
    "\treturn segmented_images\n"
   ]
  },
  {
   "cell_type": "code",
   "execution_count": 29,
   "metadata": {},
   "outputs": [],
   "source": [
    "class SegmentationHelper:\n",
    "\tdef __init__(self, data_dir, segmented_dir, label_combinations):\n",
    "\t\tself.data_dir = data_dir\n",
    "\t\tself.segmented_dir = segmented_dir\n",
    "\t\tself.label_combinations = label_combinations\n",
    "\n",
    "\t\tself.segmenter = pipeline(model=\"mattmdjaga/segformer_b2_clothes\")\n",
    "\n",
    "\tdef get_masked_image(self, segments, image, labels):\n",
    "\t\tmask_list = []\n",
    "\t\tfor s in segments:\n",
    "\t\t\tif s['label'] in labels:\n",
    "\t\t\t\tmask_list.append(s['mask'])\n",
    "\n",
    "\t\tif len(mask_list) == 0:\n",
    "\t\t\treturn None\n",
    "\n",
    "\t\tfinal_mask = np.zeros_like(mask_list[0])\n",
    "\n",
    "\t\tfor mask in mask_list:\n",
    "\t\t\tfinal_mask += mask\n",
    "\n",
    "\t\t#final_mask = np.clip(final_mask, 0, 1)\n",
    "\n",
    "\t\tfinal_mask = Image.fromarray(final_mask)\n",
    "\t\tmasked_image = image.copy()\n",
    "\n",
    "\t\tmasked_image.putalpha(final_mask)\n",
    "\n",
    "\t\treturn masked_image\n",
    "\n",
    "\tdef get_segmented_images(self, image_path):\n",
    "\t\timage = Image.open(image_path)\n",
    "\t\t\n",
    "\t\t# Perform segmentation\n",
    "\t\tsegments = self.segmenter(image)\n",
    "\n",
    "\t\tsegmented_images = {}\n",
    "\n",
    "\t\tfor key, labels in self.label_combinations.items():\n",
    "\t\t\t#print(f\"Getting segment {key} with labels: {labels}\")\n",
    "\t\t\tmasked_image = self.get_masked_image(segments, image, labels)\n",
    "\n",
    "\t\t\tif masked_image is not None:\n",
    "\t\t\t\tsegmented_images[key] = masked_image\n",
    "\n",
    "\t\treturn segmented_images\n"
   ]
  },
  {
   "cell_type": "code",
   "execution_count": 30,
   "metadata": {},
   "outputs": [
    {
     "name": "stderr",
     "output_type": "stream",
     "text": [
      "Device set to use cuda:0\n"
     ]
    }
   ],
   "source": [
    "seg_helper = SegmentationHelper(\n",
    "    data_dir=\"../data/resized\",\n",
    "    segmented_dir=\"../data/segmented\",\n",
    "    label_combinations={\n",
    "        \"full\": [\"Upper-clothes\", \"Skirt\", \"Pants\", \"Dress\", \"Scarf\"],\n",
    "        \"dress\": [\"Dress\"],\n",
    "        \"upper\": [\"Upper-clothes\"],\n",
    "        \"lower\": [\"Skirt\", \"Pants\"],\n",
    "    }\n",
    ")"
   ]
  },
  {
   "cell_type": "code",
   "execution_count": null,
   "metadata": {},
   "outputs": [],
   "source": [
    "data_dir = \"../data/resized\"\n",
    "segmented_dir = \"../data/segmented\"\n",
    "\n",
    "label_combinations = {\n",
    "\t'full': ['Upper-clothes', 'Skirt', 'Pants', 'Dress', 'Scarf'],\n",
    "\t'dress': ['Dress'],\n",
    "\t'upper': ['Upper-clothes'],\n",
    "\t'lower': ['Skirt', 'Pants']\n",
    "}\n",
    "\n",
    "count = 0\n",
    "\n",
    "for f in os.listdir(data_dir):\n",
    "\timage_path = os.path.join(data_dir, f)\n",
    "\n",
    "\tif not f.startswith('0540000'):\n",
    "\t\tcontinue\n",
    "\n",
    "\tif os.path.isfile(image_path):\n",
    "\t\tsegmented_images = seg_helper.get_segmented_images(image_path)\n",
    "\n",
    "\t\tfor key, masked_image in segmented_images.items():\n",
    "\t\t\tprint(f\"Segment '{key}' for image: {image_path}\")\n",
    "\t\t\tmasked_image.show()\n",
    "\n",
    "\t\t\t# # Save masked_image to file\n",
    "\t\t\t# output_dir = os.path.join(segmented_dir, f)\n",
    "\t\t\t# if not os.path.exists(output_dir):\n",
    "\t\t\t# \tos.makedirs(output_dir)\n",
    "\n",
    "\t\t\t# segmented_file_path = os.path.join(output_dir, f\"{f}___{key}.png\")\n",
    "\t\t\t# masked_image.save(segmented_file_path)\n",
    "\t\n",
    "\tcount = count + 1\n",
    "\n",
    "\tif count > 3:\n",
    "\t\tbreak\n",
    "\n",
    "\n"
   ]
  }
 ],
 "metadata": {
  "kernelspec": {
   "display_name": "pytorch",
   "language": "python",
   "name": "python3"
  },
  "language_info": {
   "codemirror_mode": {
    "name": "ipython",
    "version": 3
   },
   "file_extension": ".py",
   "mimetype": "text/x-python",
   "name": "python",
   "nbconvert_exporter": "python",
   "pygments_lexer": "ipython3",
   "version": "3.12.6"
  }
 },
 "nbformat": 4,
 "nbformat_minor": 2
}
