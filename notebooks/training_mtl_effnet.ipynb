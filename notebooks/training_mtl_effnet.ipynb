{
 "cells": [
  {
   "cell_type": "markdown",
   "metadata": {},
   "source": [
    "# Overview\n",
    "\n",
    "In this notebook, I am going to use Efficient Net b0, along with some improvements over previous baseline attempt, such as- use of weighted loss for back propagation so that it can address imbalanced dataset better, and a few additional layers on top of the base model."
   ]
  },
  {
   "cell_type": "markdown",
   "metadata": {},
   "source": [
    "## Load Data"
   ]
  },
  {
   "cell_type": "code",
   "execution_count": 1,
   "metadata": {},
   "outputs": [],
   "source": [
    "%load_ext autoreload\n",
    "%autoreload 2\n",
    "\n",
    "RANDOM_STATE = 2025"
   ]
  },
  {
   "cell_type": "code",
   "execution_count": 2,
   "metadata": {},
   "outputs": [],
   "source": [
    "import torch\n",
    "import torch.nn as nn\n",
    "import torch.optim as optim\n",
    "import pandas as pd\n",
    "import os\n",
    "from torchvision import models, transforms\n",
    "from torch.utils.data import DataLoader, Dataset\n",
    "from PIL import Image"
   ]
  },
  {
   "cell_type": "code",
   "execution_count": 3,
   "metadata": {},
   "outputs": [
    {
     "data": {
      "text/html": [
       "<div>\n",
       "<style scoped>\n",
       "    .dataframe tbody tr th:only-of-type {\n",
       "        vertical-align: middle;\n",
       "    }\n",
       "\n",
       "    .dataframe tbody tr th {\n",
       "        vertical-align: top;\n",
       "    }\n",
       "\n",
       "    .dataframe thead th {\n",
       "        text-align: right;\n",
       "    }\n",
       "</style>\n",
       "<table border=\"1\" class=\"dataframe\">\n",
       "  <thead>\n",
       "    <tr style=\"text-align: right;\">\n",
       "      <th></th>\n",
       "      <th>product_id</th>\n",
       "      <th>annotated_image_name</th>\n",
       "      <th>fabric_types_clean</th>\n",
       "      <th>wear_types_clean</th>\n",
       "      <th>colors_clean</th>\n",
       "      <th>textures_clean</th>\n",
       "      <th>value_additions_clean</th>\n",
       "    </tr>\n",
       "  </thead>\n",
       "  <tbody>\n",
       "    <tr>\n",
       "      <th>312</th>\n",
       "      <td>2158</td>\n",
       "      <td>0540000022438.jpg</td>\n",
       "      <td>Silk</td>\n",
       "      <td>Saree</td>\n",
       "      <td>black,blue,cyan,green</td>\n",
       "      <td>embroidery,nakshi</td>\n",
       "      <td>nakshi</td>\n",
       "    </tr>\n",
       "    <tr>\n",
       "      <th>2814</th>\n",
       "      <td>7496</td>\n",
       "      <td>0410000108357.jpg</td>\n",
       "      <td>Cotton</td>\n",
       "      <td>Skirts</td>\n",
       "      <td>grey,red</td>\n",
       "      <td>embroidery</td>\n",
       "      <td>NaN</td>\n",
       "    </tr>\n",
       "    <tr>\n",
       "      <th>2279</th>\n",
       "      <td>7399</td>\n",
       "      <td>0410000101240.jpg</td>\n",
       "      <td>Viscose Blend</td>\n",
       "      <td>Tops</td>\n",
       "      <td>red,brown,black,pink</td>\n",
       "      <td>screen print</td>\n",
       "      <td>NaN</td>\n",
       "    </tr>\n",
       "  </tbody>\n",
       "</table>\n",
       "</div>"
      ],
      "text/plain": [
       "      product_id annotated_image_name fabric_types_clean wear_types_clean  \\\n",
       "312         2158    0540000022438.jpg               Silk            Saree   \n",
       "2814        7496    0410000108357.jpg             Cotton           Skirts   \n",
       "2279        7399    0410000101240.jpg      Viscose Blend             Tops   \n",
       "\n",
       "               colors_clean     textures_clean value_additions_clean  \n",
       "312   black,blue,cyan,green  embroidery,nakshi                nakshi  \n",
       "2814               grey,red         embroidery                   NaN  \n",
       "2279   red,brown,black,pink       screen print                   NaN  "
      ]
     },
     "execution_count": 3,
     "metadata": {},
     "output_type": "execute_result"
    }
   ],
   "source": [
    "dataset_dir = \"../data/cloth_dataset\"\n",
    "csv_file_name = \"aarong_dataset_clean_final.csv\"\n",
    "\n",
    "# Load CSV File\n",
    "csv_file = os.path.join(dataset_dir, csv_file_name)\n",
    "df = pd.read_csv(csv_file)\n",
    "\n",
    "df.sample(3)"
   ]
  },
  {
   "cell_type": "code",
   "execution_count": 4,
   "metadata": {},
   "outputs": [],
   "source": [
    "single_label_features = ['fabric_types_clean', 'wear_types_clean']\n",
    "multilabel_features = ['colors_clean', 'textures_clean', 'value_additions_clean']"
   ]
  },
  {
   "cell_type": "markdown",
   "metadata": {},
   "source": [
    "Repeating the preprcessing steps to remove NaN values and removing rare labels (details explained in previous notebook)"
   ]
  },
  {
   "cell_type": "code",
   "execution_count": 5,
   "metadata": {},
   "outputs": [
    {
     "data": {
      "text/html": [
       "<div>\n",
       "<style scoped>\n",
       "    .dataframe tbody tr th:only-of-type {\n",
       "        vertical-align: middle;\n",
       "    }\n",
       "\n",
       "    .dataframe tbody tr th {\n",
       "        vertical-align: top;\n",
       "    }\n",
       "\n",
       "    .dataframe thead th {\n",
       "        text-align: right;\n",
       "    }\n",
       "</style>\n",
       "<table border=\"1\" class=\"dataframe\">\n",
       "  <thead>\n",
       "    <tr style=\"text-align: right;\">\n",
       "      <th></th>\n",
       "      <th>product_id</th>\n",
       "      <th>annotated_image_name</th>\n",
       "      <th>fabric_types_clean</th>\n",
       "      <th>wear_types_clean</th>\n",
       "      <th>colors_clean</th>\n",
       "      <th>textures_clean</th>\n",
       "      <th>value_additions_clean</th>\n",
       "    </tr>\n",
       "  </thead>\n",
       "  <tbody>\n",
       "    <tr>\n",
       "      <th>3156</th>\n",
       "      <td>7779</td>\n",
       "      <td>0470000103249.jpg</td>\n",
       "      <td>Silk</td>\n",
       "      <td>Scarves</td>\n",
       "      <td>red,white,green</td>\n",
       "      <td>hand paint</td>\n",
       "      <td></td>\n",
       "    </tr>\n",
       "    <tr>\n",
       "      <th>2766</th>\n",
       "      <td>3486</td>\n",
       "      <td>0660000104783_1.jpg</td>\n",
       "      <td>Viscose</td>\n",
       "      <td>Shawls</td>\n",
       "      <td>black,green</td>\n",
       "      <td></td>\n",
       "      <td>handloom,fringe</td>\n",
       "    </tr>\n",
       "    <tr>\n",
       "      <th>1527</th>\n",
       "      <td>8005</td>\n",
       "      <td>0460000028737.jpg</td>\n",
       "      <td>Voile</td>\n",
       "      <td>Nightwear</td>\n",
       "      <td>black,white,green</td>\n",
       "      <td>embroidery,printed</td>\n",
       "      <td></td>\n",
       "    </tr>\n",
       "  </tbody>\n",
       "</table>\n",
       "</div>"
      ],
      "text/plain": [
       "      product_id annotated_image_name fabric_types_clean wear_types_clean  \\\n",
       "3156        7779    0470000103249.jpg               Silk          Scarves   \n",
       "2766        3486  0660000104783_1.jpg            Viscose           Shawls   \n",
       "1527        8005    0460000028737.jpg              Voile        Nightwear   \n",
       "\n",
       "           colors_clean      textures_clean value_additions_clean  \n",
       "3156    red,white,green          hand paint                        \n",
       "2766        black,green                           handloom,fringe  \n",
       "1527  black,white,green  embroidery,printed                        "
      ]
     },
     "execution_count": 5,
     "metadata": {},
     "output_type": "execute_result"
    }
   ],
   "source": [
    "from my_utils.dataset_utils import remove_rare_labels\n",
    "\n",
    "for column in single_label_features + multilabel_features:\n",
    "\t# Replace NaN values with empty strings\n",
    "\tdf[column] = df[column].fillna('')\n",
    "\n",
    "\t# Remove rare labels\n",
    "\tdf[column] = remove_rare_labels(df[column], min_samples_threshold=50)\n",
    "\n",
    "df.sample(3)"
   ]
  },
  {
   "cell_type": "markdown",
   "metadata": {},
   "source": [
    "Encode the labels as done previously"
   ]
  },
  {
   "cell_type": "code",
   "execution_count": 6,
   "metadata": {},
   "outputs": [
    {
     "data": {
      "text/html": [
       "<div>\n",
       "<style scoped>\n",
       "    .dataframe tbody tr th:only-of-type {\n",
       "        vertical-align: middle;\n",
       "    }\n",
       "\n",
       "    .dataframe tbody tr th {\n",
       "        vertical-align: top;\n",
       "    }\n",
       "\n",
       "    .dataframe thead th {\n",
       "        text-align: right;\n",
       "    }\n",
       "</style>\n",
       "<table border=\"1\" class=\"dataframe\">\n",
       "  <thead>\n",
       "    <tr style=\"text-align: right;\">\n",
       "      <th></th>\n",
       "      <th>product_id</th>\n",
       "      <th>annotated_image_name</th>\n",
       "      <th>fabric_types_clean</th>\n",
       "      <th>wear_types_clean</th>\n",
       "      <th>colors_clean</th>\n",
       "      <th>textures_clean</th>\n",
       "      <th>value_additions_clean</th>\n",
       "      <th>fabric_types_clean__Cotton</th>\n",
       "      <th>fabric_types_clean__Linen</th>\n",
       "      <th>fabric_types_clean__Muslin</th>\n",
       "      <th>...</th>\n",
       "      <th>textures_clean__wax dye</th>\n",
       "      <th>value_additions_clean__</th>\n",
       "      <th>value_additions_clean__applique</th>\n",
       "      <th>value_additions_clean__fringe</th>\n",
       "      <th>value_additions_clean__handloom</th>\n",
       "      <th>value_additions_clean__lace</th>\n",
       "      <th>value_additions_clean__nakshi</th>\n",
       "      <th>value_additions_clean__sequins</th>\n",
       "      <th>value_additions_clean__tangail</th>\n",
       "      <th>value_additions_clean__tassels</th>\n",
       "    </tr>\n",
       "  </thead>\n",
       "  <tbody>\n",
       "    <tr>\n",
       "      <th>3010</th>\n",
       "      <td>6279</td>\n",
       "      <td>1190000012465_1.jpg</td>\n",
       "      <td>Viscose</td>\n",
       "      <td>Kurta</td>\n",
       "      <td>grey,yellow,purple</td>\n",
       "      <td>embroidery,printed</td>\n",
       "      <td></td>\n",
       "      <td>0.0</td>\n",
       "      <td>0.0</td>\n",
       "      <td>0.0</td>\n",
       "      <td>...</td>\n",
       "      <td>0</td>\n",
       "      <td>1</td>\n",
       "      <td>0</td>\n",
       "      <td>0</td>\n",
       "      <td>0</td>\n",
       "      <td>0</td>\n",
       "      <td>0</td>\n",
       "      <td>0</td>\n",
       "      <td>0</td>\n",
       "      <td>0</td>\n",
       "    </tr>\n",
       "    <tr>\n",
       "      <th>2699</th>\n",
       "      <td>2523</td>\n",
       "      <td>1420000174128_1.jpg___dress.png</td>\n",
       "      <td>Voile</td>\n",
       "      <td>Shalwar Kameez</td>\n",
       "      <td>pink,black,purple</td>\n",
       "      <td>embroidery,printed</td>\n",
       "      <td></td>\n",
       "      <td>0.0</td>\n",
       "      <td>0.0</td>\n",
       "      <td>0.0</td>\n",
       "      <td>...</td>\n",
       "      <td>0</td>\n",
       "      <td>1</td>\n",
       "      <td>0</td>\n",
       "      <td>0</td>\n",
       "      <td>0</td>\n",
       "      <td>0</td>\n",
       "      <td>0</td>\n",
       "      <td>0</td>\n",
       "      <td>0</td>\n",
       "      <td>0</td>\n",
       "    </tr>\n",
       "    <tr>\n",
       "      <th>1001</th>\n",
       "      <td>1209</td>\n",
       "      <td>0560000067236_2.jpg</td>\n",
       "      <td>Cotton</td>\n",
       "      <td>Saree</td>\n",
       "      <td>brown,green</td>\n",
       "      <td>block print</td>\n",
       "      <td></td>\n",
       "      <td>1.0</td>\n",
       "      <td>0.0</td>\n",
       "      <td>0.0</td>\n",
       "      <td>...</td>\n",
       "      <td>0</td>\n",
       "      <td>1</td>\n",
       "      <td>0</td>\n",
       "      <td>0</td>\n",
       "      <td>0</td>\n",
       "      <td>0</td>\n",
       "      <td>0</td>\n",
       "      <td>0</td>\n",
       "      <td>0</td>\n",
       "      <td>0</td>\n",
       "    </tr>\n",
       "  </tbody>\n",
       "</table>\n",
       "<p>3 rows × 62 columns</p>\n",
       "</div>"
      ],
      "text/plain": [
       "      product_id             annotated_image_name fabric_types_clean  \\\n",
       "3010        6279              1190000012465_1.jpg            Viscose   \n",
       "2699        2523  1420000174128_1.jpg___dress.png              Voile   \n",
       "1001        1209              0560000067236_2.jpg             Cotton   \n",
       "\n",
       "     wear_types_clean        colors_clean      textures_clean  \\\n",
       "3010            Kurta  grey,yellow,purple  embroidery,printed   \n",
       "2699   Shalwar Kameez   pink,black,purple  embroidery,printed   \n",
       "1001            Saree         brown,green         block print   \n",
       "\n",
       "     value_additions_clean  fabric_types_clean__Cotton  \\\n",
       "3010                                               0.0   \n",
       "2699                                               0.0   \n",
       "1001                                               1.0   \n",
       "\n",
       "      fabric_types_clean__Linen  fabric_types_clean__Muslin  ...  \\\n",
       "3010                        0.0                         0.0  ...   \n",
       "2699                        0.0                         0.0  ...   \n",
       "1001                        0.0                         0.0  ...   \n",
       "\n",
       "      textures_clean__wax dye  value_additions_clean__  \\\n",
       "3010                        0                        1   \n",
       "2699                        0                        1   \n",
       "1001                        0                        1   \n",
       "\n",
       "      value_additions_clean__applique  value_additions_clean__fringe  \\\n",
       "3010                                0                              0   \n",
       "2699                                0                              0   \n",
       "1001                                0                              0   \n",
       "\n",
       "      value_additions_clean__handloom  value_additions_clean__lace  \\\n",
       "3010                                0                            0   \n",
       "2699                                0                            0   \n",
       "1001                                0                            0   \n",
       "\n",
       "      value_additions_clean__nakshi  value_additions_clean__sequins  \\\n",
       "3010                              0                               0   \n",
       "2699                              0                               0   \n",
       "1001                              0                               0   \n",
       "\n",
       "      value_additions_clean__tangail  value_additions_clean__tassels  \n",
       "3010                               0                               0  \n",
       "2699                               0                               0  \n",
       "1001                               0                               0  \n",
       "\n",
       "[3 rows x 62 columns]"
      ]
     },
     "execution_count": 6,
     "metadata": {},
     "output_type": "execute_result"
    }
   ],
   "source": [
    "from my_utils.preprocessing_utils import ml_binarizer, onehot_encode\n",
    "\n",
    "for column_name in single_label_features:\n",
    "\tdf = onehot_encode(df, column_name)\n",
    "\n",
    "for column_name in multilabel_features:\n",
    "\tdf = ml_binarizer(df, column_name)\n",
    "\n",
    "df.sample(3)"
   ]
  },
  {
   "cell_type": "code",
   "execution_count": 7,
   "metadata": {},
   "outputs": [],
   "source": [
    "# Train/Val/Test Split in 70/15/15 ratio\n",
    "\n",
    "from sklearn.model_selection import train_test_split\n",
    "\n",
    "train_df, val_test_df = train_test_split(df, test_size=0.3, random_state=RANDOM_STATE)\n",
    "val_df, test_df = train_test_split(val_test_df, test_size=0.5, random_state=RANDOM_STATE)"
   ]
  },
  {
   "cell_type": "code",
   "execution_count": 8,
   "metadata": {},
   "outputs": [],
   "source": [
    "# Transformations\n",
    "transform = transforms.Compose([\n",
    "    transforms.Resize((224, 224)),\n",
    "    transforms.ToTensor(),\n",
    "    transforms.Normalize([0.485, 0.456, 0.406], [0.229, 0.224, 0.225])\n",
    "])"
   ]
  },
  {
   "cell_type": "code",
   "execution_count": 9,
   "metadata": {},
   "outputs": [],
   "source": [
    "from my_utils.CustomDataset import CustomMTLDataset\n",
    "from torch.utils.data import DataLoader\n",
    "\n",
    "train_ds = CustomMTLDataset(train_df, os.path.join(dataset_dir, 'images'), transform=transform)\n",
    "val_ds = CustomMTLDataset(val_df, os.path.join(dataset_dir, 'images'), transform=transform)\n",
    "test_ds = CustomMTLDataset(test_df, os.path.join(dataset_dir, 'images'), transform=transform)\n",
    "\n",
    "train_loader = DataLoader(train_ds, batch_size=8, shuffle=True) \n",
    "test_loader = DataLoader(test_ds, batch_size=8, shuffle=False)\n",
    "val_loader = DataLoader(val_ds, batch_size=8, shuffle=False)"
   ]
  },
  {
   "cell_type": "markdown",
   "metadata": {},
   "source": [
    "---\n",
    "\n",
    "## Model Definition\n",
    "\n",
    "Now I will define a model that uses EfficientNet (B0) backbone, and few additional layers on top of it. This is unlike the previous experiment where just one layer classification head was used.\n",
    "\n",
    "Also I'll be adding a param to enable/disable base model training (by freezing the base model layers), leaving room to experiment with feature extraction instead of fine-tuning."
   ]
  },
  {
   "cell_type": "code",
   "execution_count": 10,
   "metadata": {},
   "outputs": [],
   "source": [
    "import torch.nn as nn\n",
    "from torchvision.models import efficientnet_b0, EfficientNet_B0_Weights\n",
    "\n",
    "def generate_custom_head(shared_dim, output_dim):\n",
    "\treturn nn.Sequential(\n",
    "\t\tnn.Linear(shared_dim, 256),\n",
    "\t\tnn.ReLU(),\n",
    "\t\tnn.Dropout(0.3),\n",
    "\t\tnn.Linear(256, output_dim)\n",
    "\t)\n",
    "\n",
    "class MTLModelEfficientNet(nn.Module):\n",
    "\tdef __init__(self, fabric_dim, wear_dim, color_dim, texture_dim, value_add_dim, freeze_backbone=False):\n",
    "\t\tsuper(MTLModelEfficientNet, self).__init__()\n",
    "\t\tself.backbone = efficientnet_b0(weights=EfficientNet_B0_Weights.IMAGENET1K_V1)\n",
    "\n",
    "\t\tif freeze_backbone:\n",
    "\t\t\tfor param in self.backbone.parameters():\n",
    "\t\t\t\tparam.requires_grad = False\n",
    "\n",
    "\t\t# Remove the classifier head\n",
    "\t\tself.backbone.classifier = nn.Identity()\n",
    "\t\tself.shared_dim = 1280  \t\t\t\t# Output of EfficientNet-B0's second last layer\n",
    "\n",
    "\t\tself.heads = nn.ModuleDict({\n",
    "\t\t\t'fabric': generate_custom_head(self.shared_dim, fabric_dim),\n",
    "\t\t\t'wear': generate_custom_head(self.shared_dim, wear_dim),\n",
    "\t\t\t'color': generate_custom_head(self.shared_dim, color_dim),\n",
    "\t\t\t'texture': generate_custom_head(self.shared_dim, texture_dim),\n",
    "\t\t\t'value_add': generate_custom_head(self.shared_dim, value_add_dim),\n",
    "\t\t})\n",
    "\n",
    "\tdef forward(self, x):\n",
    "\t\tfeatures = self.backbone(x)\n",
    "\t\treturn {task: head(features) for task, head in self.heads.items()}"
   ]
  },
  {
   "cell_type": "markdown",
   "metadata": {},
   "source": [
    "## Training Setup\n",
    "\n",
    "This time I modify the loss function to consider class weights when calculating BCE. This may help with the class imbalance."
   ]
  },
  {
   "cell_type": "code",
   "execution_count": 11,
   "metadata": {},
   "outputs": [],
   "source": [
    "def calc_class_weights(dataloader, tasks):\n",
    "    total_counts = {task: {'pos': None, 'neg': None} for task in tasks}\n",
    "    \n",
    "    for _, labels in dataloader:\n",
    "        for task in tasks:\n",
    "            # contains (batch_size, num_labels)\n",
    "            label_tensor = labels[task]\n",
    "            if total_counts[task]['pos'] is None:\n",
    "                total_counts[task]['pos'] = label_tensor.sum(dim=0)\n",
    "                total_counts[task]['neg'] = (1 - label_tensor).sum(dim=0)\n",
    "            else:\n",
    "                total_counts[task]['pos'] += label_tensor.sum(dim=0)\n",
    "                total_counts[task]['neg'] += (1 - label_tensor).sum(dim=0)\n",
    "\n",
    "    class_weights = {}\n",
    "    for task in tasks:\n",
    "        pos = total_counts[task]['pos']\n",
    "        neg = total_counts[task]['neg']\n",
    "        weight = neg / (pos + 1e-5)  # avoiding div by zero\n",
    "        class_weights[task] = weight\n",
    "\n",
    "\t# returns Dict[str, Tensor] representing class weights for each task\n",
    "    return class_weights"
   ]
  },
  {
   "cell_type": "markdown",
   "metadata": {},
   "source": [
    "Also let's get the class labels for each task, which is needed to get classwise metrics."
   ]
  },
  {
   "cell_type": "code",
   "execution_count": 12,
   "metadata": {},
   "outputs": [
    {
     "name": "stdout",
     "output_type": "stream",
     "text": [
      "fabric: 7 labels: {'Linen', 'Cotton', 'Silk', 'Viscose', 'Muslin', 'Viscose Blend', 'Voile'}\n",
      "wear: 9 labels: {'Tops', 'Shalwar Kameez', 'Nightwear', 'Maternity', 'Kurta', 'Scarves', 'Saree', 'Panjabi', 'Shawls'}\n",
      "color: 13 labels: {'grey', 'yellow', 'red', 'golden', 'black', 'orange', 'blue', 'pink', 'white', 'green', 'brown', 'cyan', 'purple'}\n",
      "texture: 17 labels: {'', 'printed', 'dobby', 'textured', 'striped', 'tie dye', 'embroidery', 'wax dye', 'hand paint', 'brush paint', 'screen print', 'dye', 'applique', 'nakshi', 'check', 'floral', 'block print'}\n",
      "value_add: 9 labels: {'', 'sequins', 'applique', 'nakshi', 'handloom', 'fringe', 'tangail', 'lace', 'tassels'}\n"
     ]
    }
   ],
   "source": [
    "from my_utils.dataset_utils import get_all_labels\n",
    "\n",
    "task_labels = {\n",
    "\t'fabric': get_all_labels(train_df['fabric_types_clean'], allow_empty=False),\n",
    "\t'wear': get_all_labels(train_df['wear_types_clean'], allow_empty=False),\n",
    "\t'color': get_all_labels(train_df['colors_clean'], allow_empty=False),\n",
    "\t'texture': get_all_labels(train_df['textures_clean'], allow_empty=True),\n",
    "\t'value_add': get_all_labels(train_df['value_additions_clean'], allow_empty=True),\n",
    "}\n",
    "\n",
    "for task, labels in task_labels.items():\n",
    "\tprint(f\"{task}: {len(labels)} labels: {labels}\")"
   ]
  },
  {
   "cell_type": "markdown",
   "metadata": {},
   "source": [
    "Note that, in addition to the weighted loss, I will also calculate unweighted loss during the epoch. Weighted loss will still be used for backpropagation, but unweighted loss can be used to compare the performance against validation set. This is because using weighted loss will make it difficult to compare against validation loss, as they turn out to be in different ranges."
   ]
  },
  {
   "cell_type": "code",
   "execution_count": 13,
   "metadata": {},
   "outputs": [],
   "source": [
    "import torch\n",
    "from sklearn.metrics import f1_score, precision_score, recall_score, accuracy_score, classification_report\n",
    "from tqdm import tqdm\n",
    "import json\n",
    "import numpy as np\n",
    "\n",
    "def run_epoch(model, loader, optimizer, device, is_train=True, threshold=0.5, class_weights=None):\n",
    "\tif is_train:\n",
    "\t\tmodel.train()\n",
    "\telse:\n",
    "\t\tmodel.eval()\n",
    "\n",
    "\ttotal_loss = 0.0\n",
    "\ttotal_unweighted_loss = 0.0\n",
    "\n",
    "\tall_preds = {k: [] for k in model.heads}\n",
    "\tall_targets = {k: [] for k in model.heads}\n",
    "\n",
    "\tfor images, labels in tqdm(loader):\n",
    "\t\timages = images.to(device)\n",
    "\t\tlabels = {k: v.to(device) for k, v in labels.items()}\n",
    "\n",
    "\t\tif is_train:\n",
    "\t\t\toptimizer.zero_grad()\n",
    "\n",
    "\t\twith torch.set_grad_enabled(is_train):\n",
    "\t\t\toutputs = model(images)\n",
    "\t\t\tlosses = []\n",
    "\t\t\tunweighted_losses = []\n",
    "\n",
    "\t\t\tfor task in outputs:\n",
    "\t\t\t\tunweighted_loss = torch.nn.functional.binary_cross_entropy_with_logits(outputs[task], labels[task])\n",
    "\n",
    "\t\t\t\tif class_weights and task in class_weights:\n",
    "\t\t\t\t\tweights = class_weights[task].to(device)\n",
    "\t\t\t\t\tloss = torch.nn.functional.binary_cross_entropy_with_logits(outputs[task], labels[task], weight=weights)\n",
    "\t\t\t\telse:\n",
    "\t\t\t\t\tloss = unweighted_loss\n",
    "\t\t\t\t\t\n",
    "\t\t\t\tlosses.append(loss)\n",
    "\t\t\t\tunweighted_losses.append(unweighted_loss)\n",
    "\n",
    "\t\t\t\tif not is_train:\n",
    "\t\t\t\t\tprobs = torch.sigmoid(outputs[task])\n",
    "\t\t\t\t\tpreds = (probs > threshold).int()\n",
    "\t\t\t\t\tall_preds[task].extend(preds.cpu().numpy())\n",
    "\t\t\t\t\tall_targets[task].extend(labels[task].cpu().numpy())\n",
    "\n",
    "\t\t\tbatch_loss = sum(losses)\n",
    "\t\t\ttotal_loss += batch_loss.item()\n",
    "\n",
    "\t\t\ttotal_unweighted_loss += (sum(unweighted_losses)).item()\n",
    "\n",
    "\t\t\tif is_train:\n",
    "\t\t\t\tbatch_loss.backward()\n",
    "\t\t\t\toptimizer.step()\n",
    "\n",
    "\tavg_loss = total_loss / len(loader)\n",
    "\tavg_unweighted_loss = total_unweighted_loss / len(loader)\n",
    "\n",
    "\tif not is_train:\n",
    "\t\tmetrics = {}\n",
    "\n",
    "\t\tfor task in all_preds:\n",
    "\t\t\t# Class-wise metrics\n",
    "\t\t\treport = classification_report(all_targets[task], all_preds[task], target_names=task_labels[task], output_dict=True, zero_division=0)\n",
    "\n",
    "\t\t\t# Compute predicted support\n",
    "\t\t\tpred_counts = np.sum(np.array(all_preds[task]), axis=0)\n",
    "\t\t\tpredicted_support = dict(zip(task_labels[task], pred_counts.tolist()))\n",
    "\n",
    "\t\t\tmetrics[task] = {\n",
    "\t\t\t\t'f1': f1_score(all_targets[task], all_preds[task], average='micro', zero_division=0),\n",
    "\t\t\t\t'precision': precision_score(all_targets[task], all_preds[task], average='micro', zero_division=0),\n",
    "\t\t\t\t'recall': recall_score(all_targets[task], all_preds[task], average='micro', zero_division=0),\n",
    "\t\t\t\t'accuracy': accuracy_score(all_targets[task], all_preds[task]),\n",
    "\n",
    "\t\t\t\t'classwise_metrics':  {\n",
    "\t\t\t\t\tclass_label : {\n",
    "\t\t\t\t\t\t'precision': report[class_label]['precision'],\n",
    "\t\t\t\t\t\t'recall': report[class_label]['recall'],\n",
    "\t\t\t\t\t\t'f1': report[class_label]['f1-score'],\n",
    "\t\t\t\t\t\t'support': report[class_label]['support'],\n",
    "\t\t\t\t\t\t'predicted_support': predicted_support[class_label],\n",
    "\t\t\t\t\t} for class_label in task_labels[task]\n",
    "\t\t\t\t}\n",
    "\t\t\t}\n",
    "\n",
    "\t\treturn avg_loss, metrics\n",
    "\t\n",
    "\telse:\n",
    "\t\treturn avg_loss, avg_unweighted_loss\n",
    "\n",
    "\n",
    "def train_model(model, train_loader, val_loader, optimizer, device, num_epochs=10, threshold=0.5, use_class_weights=False, verbose=True, model_name=''):\n",
    "\tmodel.to(device)\n",
    "\tbest_val_loss = float('inf')\n",
    "\tpatience = 3\n",
    "\tpatience_counter = 0\n",
    "\n",
    "\tif not model_name:\n",
    "\t\tmodel_name = model.__class__.__name__ + pd.Timestamp.now().strftime(\"%Y%m%d-%H%M%S\")\n",
    "\n",
    "\tbest_model_path = os.path.join('../data', 'model_weights', f'best_model-{model_name}.pt')\n",
    "\thistory_path = os.path.join('../data', 'model_weights', f'history-{model_name}.json')\n",
    "\n",
    "\thistory = {\n",
    "\t\t'train_loss': [],\n",
    "\t\t'unweighted_train_loss': [],\n",
    "\t\t'val_loss': [],\n",
    "\t\t'val_metrics': [],\n",
    "\t\t'best_epoch': 0\n",
    "\t}\n",
    "\n",
    "\tclass_weights = calc_class_weights(train_loader, model.heads.keys()) if use_class_weights else None\n",
    "\n",
    "\tfor epoch in range(num_epochs):\n",
    "\t\tprint(f\"\\nEpoch {epoch+1}/{num_epochs}\")\n",
    "\t\ttrain_loss, unweighted_train_loss = run_epoch(model, train_loader, optimizer, device, is_train=True, class_weights=class_weights)\n",
    "\t\tval_loss, val_metrics = run_epoch(model, val_loader, optimizer, device, is_train=False, threshold=threshold)\n",
    "\n",
    "\t\thistory['train_loss'].append(train_loss)\n",
    "\t\thistory['unweighted_train_loss'].append(unweighted_train_loss)\n",
    "\t\thistory['val_loss'].append(val_loss)\n",
    "\t\thistory['val_metrics'].append(val_metrics)\n",
    "\n",
    "\t\tprint(f\"Train Loss: {train_loss:.4f}\")\n",
    "\t\tprint(f\"Val Loss: {val_loss:.4f}\")\n",
    "\n",
    "\t\tif verbose:\n",
    "\t\t\tfor task, task_metrics in val_metrics.items():\n",
    "\t\t\t\tprint(\"Metrics for task:\", task)\n",
    "\t\t\t\tfor metric_name, metric_value in task_metrics.items():\n",
    "\t\t\t\t\tprint(f\"\\t[Val {metric_name}]: {metric_value:.4f}\")\n",
    "\n",
    "\t\t# Early stopping\n",
    "\t\tif val_loss < best_val_loss:\n",
    "\t\t\tbest_val_loss = val_loss\n",
    "\t\t\tpatience_counter = 0\n",
    "\t\t\ttorch.save(model.state_dict(), best_model_path)\n",
    "\t\t\thistory['best_epoch'] = epoch\n",
    "\t\telse:\n",
    "\t\t\tpatience_counter += 1\n",
    "\t\t\tif patience_counter >= patience:\n",
    "\t\t\t\tprint(\"Early stopping triggered.\")\n",
    "\t\t\t\tbreak\n",
    "\n",
    "\t# Save the training history\n",
    "\twith open(history_path, 'w') as f:\n",
    "\t\tjson.dump(history, f)\n",
    "\t\t\n",
    "\treturn history\n",
    "\n",
    "\n",
    "def evaluate_on_test(model, model_weight_path, test_loader, device, threshold=0.5, verbose=False):\n",
    "\tmodel.to(device)\n",
    "\n",
    "\t# Load saved weights\n",
    "\tmodel.load_state_dict(torch.load(model_weight_path, map_location=device))\n",
    "\n",
    "\twith torch.no_grad():\n",
    "\t\ttest_loss, test_metrics = run_epoch(model=model, loader=test_loader, optimizer=None, device=device, is_train=False, threshold=threshold)\n",
    "\n",
    "\tif verbose:\n",
    "\t\tprint(f\"\\nTest Set Performance:\\nTest Loss: {test_loss:.4f}\")\n",
    "\t\tfor task, task_metrics in test_metrics.items():\n",
    "\t\t\tprint(f\"\\nTask: {task}\")\n",
    "\t\t\tfor metric_name, value in task_metrics.items():\n",
    "\t\t\t\tif metric_name == 'f1':\n",
    "\t\t\t\t\tprint(f\"  {metric_name}: {value:.4f}\")\n",
    "\t\t\t\n",
    "\ttest_metric_path = os.path.join('../data', 'model_weights', f'test_metrics-{model_weight_path.split(\"/\")[-1]}.json')\n",
    "\n",
    "\twith open(test_metric_path, 'w') as f:\n",
    "\t\tjson.dump({'test_loss': test_loss, 'test_metrics': test_metrics}, f)\n",
    "\t\t\n",
    "\treturn test_loss, test_metrics"
   ]
  },
  {
   "cell_type": "code",
   "execution_count": 14,
   "metadata": {},
   "outputs": [
    {
     "name": "stdout",
     "output_type": "stream",
     "text": [
      "Using device: cuda\n"
     ]
    }
   ],
   "source": [
    "model = MTLModelEfficientNet(\n",
    "\tfabric_dim=len(train_ds.label_columns['fabric']),\n",
    "\twear_dim=len(train_ds.label_columns['wear']),\n",
    "\tcolor_dim=len(train_ds.label_columns['color']),\n",
    "\ttexture_dim=len(train_ds.label_columns['texture']),\n",
    "\tvalue_add_dim=len(train_ds.label_columns['value_add']),\n",
    "\tfreeze_backbone=False\n",
    ")\n",
    "\n",
    "optimizer = optim.Adam(model.parameters(), lr=0.001)\n",
    "\n",
    "device = torch.device(\"cuda\" if torch.cuda.is_available() else \"cpu\")\n",
    "\n",
    "print(f\"Using device: {device}\")"
   ]
  },
  {
   "cell_type": "markdown",
   "metadata": {},
   "source": [
    "## Training Run"
   ]
  },
  {
   "cell_type": "code",
   "execution_count": 15,
   "metadata": {},
   "outputs": [
    {
     "name": "stdout",
     "output_type": "stream",
     "text": [
      "\n",
      "Epoch 1/10\n"
     ]
    },
    {
     "name": "stderr",
     "output_type": "stream",
     "text": [
      "100%|██████████| 289/289 [00:22<00:00, 12.83it/s]\n",
      "100%|██████████| 62/62 [00:03<00:00, 17.16it/s]\n"
     ]
    },
    {
     "name": "stdout",
     "output_type": "stream",
     "text": [
      "Train Loss: 15.5404\n",
      "Val Loss: 1.2921\n",
      "\n",
      "Epoch 2/10\n"
     ]
    },
    {
     "name": "stderr",
     "output_type": "stream",
     "text": [
      "100%|██████████| 289/289 [00:22<00:00, 13.12it/s]\n",
      "100%|██████████| 62/62 [00:03<00:00, 17.37it/s]\n"
     ]
    },
    {
     "name": "stdout",
     "output_type": "stream",
     "text": [
      "Train Loss: 12.3267\n",
      "Val Loss: 1.2204\n",
      "\n",
      "Epoch 3/10\n"
     ]
    },
    {
     "name": "stderr",
     "output_type": "stream",
     "text": [
      "100%|██████████| 289/289 [00:21<00:00, 13.26it/s]\n",
      "100%|██████████| 62/62 [00:03<00:00, 17.47it/s]\n"
     ]
    },
    {
     "name": "stdout",
     "output_type": "stream",
     "text": [
      "Train Loss: 11.2494\n",
      "Val Loss: 1.1866\n",
      "\n",
      "Epoch 4/10\n"
     ]
    },
    {
     "name": "stderr",
     "output_type": "stream",
     "text": [
      "100%|██████████| 289/289 [00:21<00:00, 13.19it/s]\n",
      "100%|██████████| 62/62 [00:03<00:00, 17.41it/s]\n"
     ]
    },
    {
     "name": "stdout",
     "output_type": "stream",
     "text": [
      "Train Loss: 10.9740\n",
      "Val Loss: 1.1639\n",
      "\n",
      "Epoch 5/10\n"
     ]
    },
    {
     "name": "stderr",
     "output_type": "stream",
     "text": [
      "100%|██████████| 289/289 [00:21<00:00, 13.23it/s]\n",
      "100%|██████████| 62/62 [00:03<00:00, 16.17it/s]\n"
     ]
    },
    {
     "name": "stdout",
     "output_type": "stream",
     "text": [
      "Train Loss: 10.0800\n",
      "Val Loss: 1.0848\n",
      "\n",
      "Epoch 6/10\n"
     ]
    },
    {
     "name": "stderr",
     "output_type": "stream",
     "text": [
      "100%|██████████| 289/289 [00:21<00:00, 13.32it/s]\n",
      "100%|██████████| 62/62 [00:03<00:00, 17.53it/s]\n"
     ]
    },
    {
     "name": "stdout",
     "output_type": "stream",
     "text": [
      "Train Loss: 9.5034\n",
      "Val Loss: 1.0973\n",
      "\n",
      "Epoch 7/10\n"
     ]
    },
    {
     "name": "stderr",
     "output_type": "stream",
     "text": [
      "100%|██████████| 289/289 [00:21<00:00, 13.35it/s]\n",
      "100%|██████████| 62/62 [00:03<00:00, 17.45it/s]\n"
     ]
    },
    {
     "name": "stdout",
     "output_type": "stream",
     "text": [
      "Train Loss: 9.1733\n",
      "Val Loss: 1.1456\n",
      "\n",
      "Epoch 8/10\n"
     ]
    },
    {
     "name": "stderr",
     "output_type": "stream",
     "text": [
      "100%|██████████| 289/289 [00:21<00:00, 13.23it/s]\n",
      "100%|██████████| 62/62 [00:03<00:00, 17.58it/s]\n"
     ]
    },
    {
     "name": "stdout",
     "output_type": "stream",
     "text": [
      "Train Loss: 8.6036\n",
      "Val Loss: 1.1059\n",
      "Early stopping triggered.\n"
     ]
    }
   ],
   "source": [
    "history = train_model(\n",
    "    model=model,\n",
    "    train_loader=train_loader,\n",
    "    val_loader=val_loader,\n",
    "    optimizer=optimizer,\n",
    "    device=device,\n",
    "    num_epochs=10,\n",
    "    threshold=0.5,\n",
    "\tuse_class_weights=True,\n",
    "\tverbose=False,\n",
    "\tmodel_name='efficientnet_mtl_th0.5_cw'\n",
    ")\n"
   ]
  },
  {
   "cell_type": "markdown",
   "metadata": {},
   "source": [
    "## Evaluation"
   ]
  },
  {
   "cell_type": "code",
   "execution_count": 16,
   "metadata": {},
   "outputs": [
    {
     "data": {
      "image/png": "[encoded data removed]",
      "text/plain": [
       "<Figure size 640x480 with 1 Axes>"
      ]
     },
     "metadata": {},
     "output_type": "display_data"
    }
   ],
   "source": [
    "import matplotlib.pyplot as plt\n",
    "from my_utils.plot_utils import plot_train_val_loss\n",
    "\n",
    "plot_train_val_loss(history)"
   ]
  },
  {
   "cell_type": "code",
   "execution_count": 17,
   "metadata": {},
   "outputs": [
    {
     "data": {
      "image/png": "[encoded data removed]",
      "text/plain": [
       "<Figure size 1000x600 with 1 Axes>"
      ]
     },
     "metadata": {},
     "output_type": "display_data"
    }
   ],
   "source": [
    "from my_utils.plot_utils import compare_tasks_for_metric\n",
    "\n",
    "compare_tasks_for_metric(history, 'f1', show_losses=False)"
   ]
  },
  {
   "cell_type": "code",
   "execution_count": 18,
   "metadata": {},
   "outputs": [
    {
     "name": "stdout",
     "output_type": "stream",
     "text": [
      "Best Epoch #: 5\n"
     ]
    },
    {
     "data": {
      "text/html": [
       "<div>\n",
       "<style scoped>\n",
       "    .dataframe tbody tr th:only-of-type {\n",
       "        vertical-align: middle;\n",
       "    }\n",
       "\n",
       "    .dataframe tbody tr th {\n",
       "        vertical-align: top;\n",
       "    }\n",
       "\n",
       "    .dataframe thead th {\n",
       "        text-align: right;\n",
       "    }\n",
       "</style>\n",
       "<table border=\"1\" class=\"dataframe\">\n",
       "  <thead>\n",
       "    <tr style=\"text-align: right;\">\n",
       "      <th></th>\n",
       "      <th>fabric</th>\n",
       "      <th>wear</th>\n",
       "      <th>color</th>\n",
       "      <th>texture</th>\n",
       "      <th>value_add</th>\n",
       "    </tr>\n",
       "  </thead>\n",
       "  <tbody>\n",
       "    <tr>\n",
       "      <th>f1</th>\n",
       "      <td>0.36</td>\n",
       "      <td>0.89</td>\n",
       "      <td>0.30</td>\n",
       "      <td>0.62</td>\n",
       "      <td>0.80</td>\n",
       "    </tr>\n",
       "    <tr>\n",
       "      <th>precision</th>\n",
       "      <td>0.69</td>\n",
       "      <td>0.91</td>\n",
       "      <td>0.70</td>\n",
       "      <td>0.75</td>\n",
       "      <td>0.81</td>\n",
       "    </tr>\n",
       "    <tr>\n",
       "      <th>recall</th>\n",
       "      <td>0.24</td>\n",
       "      <td>0.87</td>\n",
       "      <td>0.19</td>\n",
       "      <td>0.52</td>\n",
       "      <td>0.79</td>\n",
       "    </tr>\n",
       "    <tr>\n",
       "      <th>accuracy</th>\n",
       "      <td>0.24</td>\n",
       "      <td>0.86</td>\n",
       "      <td>0.03</td>\n",
       "      <td>0.39</td>\n",
       "      <td>0.75</td>\n",
       "    </tr>\n",
       "  </tbody>\n",
       "</table>\n",
       "</div>"
      ],
      "text/plain": [
       "           fabric  wear  color  texture  value_add\n",
       "f1           0.36  0.89   0.30     0.62       0.80\n",
       "precision    0.69  0.91   0.70     0.75       0.81\n",
       "recall       0.24  0.87   0.19     0.52       0.79\n",
       "accuracy     0.24  0.86   0.03     0.39       0.75"
      ]
     },
     "execution_count": 18,
     "metadata": {},
     "output_type": "execute_result"
    }
   ],
   "source": [
    "from my_utils.eval_utils import parse_task_metrics\n",
    "\n",
    "task_metrics, classwise_metrics = parse_task_metrics(history, verbose=True)\n",
    "\n",
    "pd.DataFrame.from_dict(task_metrics, orient='index').T.round(2)"
   ]
  },
  {
   "cell_type": "markdown",
   "metadata": {},
   "source": [
    "Lets revisit the baseline, and compare against this one. I have refactored code for parsing history to extract task metrics, classwise metrics from previous notebook into utility functions."
   ]
  },
  {
   "cell_type": "code",
   "execution_count": 19,
   "metadata": {},
   "outputs": [
    {
     "name": "stdout",
     "output_type": "stream",
     "text": [
      "EfficientNet Performance:\n"
     ]
    },
    {
     "data": {
      "text/html": [
       "<div>\n",
       "<style scoped>\n",
       "    .dataframe tbody tr th:only-of-type {\n",
       "        vertical-align: middle;\n",
       "    }\n",
       "\n",
       "    .dataframe tbody tr th {\n",
       "        vertical-align: top;\n",
       "    }\n",
       "\n",
       "    .dataframe thead th {\n",
       "        text-align: right;\n",
       "    }\n",
       "</style>\n",
       "<table border=\"1\" class=\"dataframe\">\n",
       "  <thead>\n",
       "    <tr style=\"text-align: right;\">\n",
       "      <th></th>\n",
       "      <th>fabric</th>\n",
       "      <th>wear</th>\n",
       "      <th>color</th>\n",
       "      <th>texture</th>\n",
       "      <th>value_add</th>\n",
       "    </tr>\n",
       "  </thead>\n",
       "  <tbody>\n",
       "    <tr>\n",
       "      <th>f1</th>\n",
       "      <td>0.36</td>\n",
       "      <td>0.89</td>\n",
       "      <td>0.30</td>\n",
       "      <td>0.62</td>\n",
       "      <td>0.80</td>\n",
       "    </tr>\n",
       "    <tr>\n",
       "      <th>precision</th>\n",
       "      <td>0.69</td>\n",
       "      <td>0.91</td>\n",
       "      <td>0.70</td>\n",
       "      <td>0.75</td>\n",
       "      <td>0.81</td>\n",
       "    </tr>\n",
       "    <tr>\n",
       "      <th>recall</th>\n",
       "      <td>0.24</td>\n",
       "      <td>0.87</td>\n",
       "      <td>0.19</td>\n",
       "      <td>0.52</td>\n",
       "      <td>0.79</td>\n",
       "    </tr>\n",
       "    <tr>\n",
       "      <th>accuracy</th>\n",
       "      <td>0.24</td>\n",
       "      <td>0.86</td>\n",
       "      <td>0.03</td>\n",
       "      <td>0.39</td>\n",
       "      <td>0.75</td>\n",
       "    </tr>\n",
       "  </tbody>\n",
       "</table>\n",
       "</div>"
      ],
      "text/plain": [
       "           fabric  wear  color  texture  value_add\n",
       "f1           0.36  0.89   0.30     0.62       0.80\n",
       "precision    0.69  0.91   0.70     0.75       0.81\n",
       "recall       0.24  0.87   0.19     0.52       0.79\n",
       "accuracy     0.24  0.86   0.03     0.39       0.75"
      ]
     },
     "metadata": {},
     "output_type": "display_data"
    },
    {
     "name": "stdout",
     "output_type": "stream",
     "text": [
      "\n",
      "Baseline Performance (Resnet 18):\n"
     ]
    },
    {
     "data": {
      "text/html": [
       "<div>\n",
       "<style scoped>\n",
       "    .dataframe tbody tr th:only-of-type {\n",
       "        vertical-align: middle;\n",
       "    }\n",
       "\n",
       "    .dataframe tbody tr th {\n",
       "        vertical-align: top;\n",
       "    }\n",
       "\n",
       "    .dataframe thead th {\n",
       "        text-align: right;\n",
       "    }\n",
       "</style>\n",
       "<table border=\"1\" class=\"dataframe\">\n",
       "  <thead>\n",
       "    <tr style=\"text-align: right;\">\n",
       "      <th></th>\n",
       "      <th>fabric</th>\n",
       "      <th>wear</th>\n",
       "      <th>color</th>\n",
       "      <th>texture</th>\n",
       "      <th>value_add</th>\n",
       "    </tr>\n",
       "  </thead>\n",
       "  <tbody>\n",
       "    <tr>\n",
       "      <th>f1</th>\n",
       "      <td>0.48</td>\n",
       "      <td>0.85</td>\n",
       "      <td>0.48</td>\n",
       "      <td>0.58</td>\n",
       "      <td>0.73</td>\n",
       "    </tr>\n",
       "    <tr>\n",
       "      <th>precision</th>\n",
       "      <td>0.64</td>\n",
       "      <td>0.90</td>\n",
       "      <td>0.64</td>\n",
       "      <td>0.75</td>\n",
       "      <td>0.75</td>\n",
       "    </tr>\n",
       "    <tr>\n",
       "      <th>recall</th>\n",
       "      <td>0.39</td>\n",
       "      <td>0.80</td>\n",
       "      <td>0.39</td>\n",
       "      <td>0.48</td>\n",
       "      <td>0.70</td>\n",
       "    </tr>\n",
       "    <tr>\n",
       "      <th>accuracy</th>\n",
       "      <td>0.38</td>\n",
       "      <td>0.79</td>\n",
       "      <td>0.09</td>\n",
       "      <td>0.35</td>\n",
       "      <td>0.65</td>\n",
       "    </tr>\n",
       "  </tbody>\n",
       "</table>\n",
       "</div>"
      ],
      "text/plain": [
       "           fabric  wear  color  texture  value_add\n",
       "f1           0.48  0.85   0.48     0.58       0.73\n",
       "precision    0.64  0.90   0.64     0.75       0.75\n",
       "recall       0.39  0.80   0.39     0.48       0.70\n",
       "accuracy     0.38  0.79   0.09     0.35       0.65"
      ]
     },
     "metadata": {},
     "output_type": "display_data"
    }
   ],
   "source": [
    "from IPython.display import display\n",
    "from my_utils.eval_utils import load_task_metrics_for_test\n",
    "import pandas as pd\n",
    "\n",
    "effnet_metrics, effnet_claswise_metrics = parse_task_metrics(history)\n",
    "baseline_metrics, baseline_classwise_metrics = load_task_metrics_for_test('../data/model_weights/test_metrics-best_model-resnet18_baseline.pt.json')\n",
    "\n",
    "print(\"EfficientNet Performance:\")\n",
    "display(pd.DataFrame.from_dict(effnet_metrics, orient='index').T.round(2))\n",
    "\n",
    "print(\"\\nBaseline Performance (Resnet 18):\")\n",
    "display(pd.DataFrame.from_dict(baseline_metrics, orient='index').T.round(2))"
   ]
  },
  {
   "cell_type": "markdown",
   "metadata": {},
   "source": [
    "Let's compare the F1 score and Recall side by side"
   ]
  },
  {
   "cell_type": "code",
   "execution_count": 21,
   "metadata": {},
   "outputs": [
    {
     "data": {
      "text/html": [
       "<div>\n",
       "<style scoped>\n",
       "    .dataframe tbody tr th:only-of-type {\n",
       "        vertical-align: middle;\n",
       "    }\n",
       "\n",
       "    .dataframe tbody tr th {\n",
       "        vertical-align: top;\n",
       "    }\n",
       "\n",
       "    .dataframe thead th {\n",
       "        text-align: right;\n",
       "    }\n",
       "</style>\n",
       "<table border=\"1\" class=\"dataframe\">\n",
       "  <thead>\n",
       "    <tr style=\"text-align: right;\">\n",
       "      <th></th>\n",
       "      <th>Metric</th>\n",
       "      <th>Task</th>\n",
       "      <th>Baseline (ResNet18)</th>\n",
       "      <th>EfficientNet B0</th>\n",
       "      <th>Delta</th>\n",
       "    </tr>\n",
       "  </thead>\n",
       "  <tbody>\n",
       "    <tr>\n",
       "      <th>0</th>\n",
       "      <td>f1</td>\n",
       "      <td>fabric</td>\n",
       "      <td>0.48</td>\n",
       "      <td>0.36</td>\n",
       "      <td>-0.13</td>\n",
       "    </tr>\n",
       "    <tr>\n",
       "      <th>1</th>\n",
       "      <td>f1</td>\n",
       "      <td>wear</td>\n",
       "      <td>0.85</td>\n",
       "      <td>0.89</td>\n",
       "      <td>0.04</td>\n",
       "    </tr>\n",
       "    <tr>\n",
       "      <th>2</th>\n",
       "      <td>f1</td>\n",
       "      <td>color</td>\n",
       "      <td>0.48</td>\n",
       "      <td>0.30</td>\n",
       "      <td>-0.18</td>\n",
       "    </tr>\n",
       "    <tr>\n",
       "      <th>3</th>\n",
       "      <td>f1</td>\n",
       "      <td>texture</td>\n",
       "      <td>0.58</td>\n",
       "      <td>0.62</td>\n",
       "      <td>0.03</td>\n",
       "    </tr>\n",
       "    <tr>\n",
       "      <th>4</th>\n",
       "      <td>f1</td>\n",
       "      <td>value_add</td>\n",
       "      <td>0.73</td>\n",
       "      <td>0.80</td>\n",
       "      <td>0.08</td>\n",
       "    </tr>\n",
       "    <tr>\n",
       "      <th>5</th>\n",
       "      <td>accuracy</td>\n",
       "      <td>fabric</td>\n",
       "      <td>0.38</td>\n",
       "      <td>0.24</td>\n",
       "      <td>-0.14</td>\n",
       "    </tr>\n",
       "    <tr>\n",
       "      <th>6</th>\n",
       "      <td>accuracy</td>\n",
       "      <td>wear</td>\n",
       "      <td>0.79</td>\n",
       "      <td>0.86</td>\n",
       "      <td>0.06</td>\n",
       "    </tr>\n",
       "    <tr>\n",
       "      <th>7</th>\n",
       "      <td>accuracy</td>\n",
       "      <td>color</td>\n",
       "      <td>0.09</td>\n",
       "      <td>0.03</td>\n",
       "      <td>-0.06</td>\n",
       "    </tr>\n",
       "    <tr>\n",
       "      <th>8</th>\n",
       "      <td>accuracy</td>\n",
       "      <td>texture</td>\n",
       "      <td>0.35</td>\n",
       "      <td>0.39</td>\n",
       "      <td>0.05</td>\n",
       "    </tr>\n",
       "    <tr>\n",
       "      <th>9</th>\n",
       "      <td>accuracy</td>\n",
       "      <td>value_add</td>\n",
       "      <td>0.65</td>\n",
       "      <td>0.75</td>\n",
       "      <td>0.10</td>\n",
       "    </tr>\n",
       "  </tbody>\n",
       "</table>\n",
       "</div>"
      ],
      "text/plain": [
       "     Metric       Task  Baseline (ResNet18)  EfficientNet B0  Delta\n",
       "0        f1     fabric                 0.48             0.36  -0.13\n",
       "1        f1       wear                 0.85             0.89   0.04\n",
       "2        f1      color                 0.48             0.30  -0.18\n",
       "3        f1    texture                 0.58             0.62   0.03\n",
       "4        f1  value_add                 0.73             0.80   0.08\n",
       "5  accuracy     fabric                 0.38             0.24  -0.14\n",
       "6  accuracy       wear                 0.79             0.86   0.06\n",
       "7  accuracy      color                 0.09             0.03  -0.06\n",
       "8  accuracy    texture                 0.35             0.39   0.05\n",
       "9  accuracy  value_add                 0.65             0.75   0.10"
      ]
     },
     "execution_count": 21,
     "metadata": {},
     "output_type": "execute_result"
    }
   ],
   "source": [
    "def compare_task_with_baseline(baseline_metrics, model_metrics, metrics=['accuracy', 'f1', 'precision', 'recall'], baseline_model_name ='ResNet18', new_model_name='??'):\n",
    "\tbaseline_perf = pd.DataFrame.from_dict(baseline_metrics, orient='index').T\n",
    "\tmodel_perf = pd.DataFrame.from_dict(model_metrics, orient='index').T\n",
    "\n",
    "\trows = []\n",
    "\n",
    "\tfor metric in metrics:\n",
    "\t\tfor task in baseline_perf.T.index:\n",
    "\t\t\tbaseline_value = baseline_perf[task][metric]\n",
    "\t\t\tmodel_value = model_perf[task][metric]\n",
    "\t\t\tdelta = model_value - baseline_value\n",
    "\n",
    "\t\t\trow = {\n",
    "\t\t\t\t'Metric': metric,\n",
    "\t\t\t\t'Task': task,\n",
    "\t\t\t\tf'Baseline ({baseline_model_name})': round(baseline_value, 2),\n",
    "\t\t\t\tf'{new_model_name}': round(model_value, 2),\n",
    "\t\t\t\t'Delta': round(delta, 2)\n",
    "\t\t\t}\n",
    "\n",
    "\t\t\trows.append(row)\n",
    "\n",
    "\tcomparison_df = pd.DataFrame(rows)\n",
    "\n",
    "\treturn comparison_df\n",
    "\n",
    "compare_task_with_baseline(baseline_metrics, effnet_metrics, metrics=['f1', 'accuracy'], baseline_model_name='ResNet18', new_model_name='EfficientNet B0')\n"
   ]
  },
  {
   "cell_type": "markdown",
   "metadata": {},
   "source": [
    "So F1 score improved for Wear, Texture and Value addition, but slightly decreased for rest. The accuracy of Color classification has further decreased."
   ]
  },
  {
   "cell_type": "markdown",
   "metadata": {},
   "source": [
    "Let's also check the classwise metrics for colors again to see if it improved compared to baseline, for some of the poorly performing classes."
   ]
  },
  {
   "cell_type": "code",
   "execution_count": 22,
   "metadata": {},
   "outputs": [],
   "source": [
    "from my_utils.eval_utils import get_classwise_metric\n",
    "\n",
    "color_f1 = get_classwise_metric(effnet_claswise_metrics, 'color', 'f1')\n",
    "color_support = get_classwise_metric(effnet_claswise_metrics, 'color', 'support')\n",
    "color_predicted_support = get_classwise_metric(effnet_claswise_metrics, 'color', 'predicted_support')"
   ]
  },
  {
   "cell_type": "code",
   "execution_count": 23,
   "metadata": {},
   "outputs": [
    {
     "data": {
      "image/png": "[encoded data removed]",
      "text/plain": [
       "<Figure size 600x300 with 1 Axes>"
      ]
     },
     "metadata": {},
     "output_type": "display_data"
    },
    {
     "data": {
      "image/png": "[encoded data removed]",
      "text/plain": [
       "<Figure size 600x300 with 1 Axes>"
      ]
     },
     "metadata": {},
     "output_type": "display_data"
    },
    {
     "data": {
      "image/png": "[encoded data removed]",
      "text/plain": [
       "<Figure size 600x300 with 1 Axes>"
      ]
     },
     "metadata": {},
     "output_type": "display_data"
    }
   ],
   "source": [
    "from my_utils.plot_utils import plot_classwise_metric\n",
    "\n",
    "plot_classwise_metric(color_f1, 'color', 'f1')\n",
    "\n",
    "plot_classwise_metric(color_support, 'color', 'support')\n",
    "plot_classwise_metric(color_predicted_support, 'color', 'predicted_support')"
   ]
  },
  {
   "cell_type": "markdown",
   "metadata": {},
   "source": [
    "Good thing is model did classify some red this time, unlike catastrophically failing to classify any red in the previous baseline run! However, this time it performed ppor on golden and green."
   ]
  },
  {
   "cell_type": "markdown",
   "metadata": {},
   "source": [
    "## Additional Experiments\n",
    "\n",
    "Now let's do a few more experiments using the same EfficientNet backbone, but with different configurations."
   ]
  },
  {
   "cell_type": "markdown",
   "metadata": {},
   "source": [
    "### Threshold Variation"
   ]
  },
  {
   "cell_type": "code",
   "execution_count": 26,
   "metadata": {},
   "outputs": [
    {
     "name": "stdout",
     "output_type": "stream",
     "text": [
      "\n",
      "Epoch 1/10\n"
     ]
    },
    {
     "name": "stderr",
     "output_type": "stream",
     "text": [
      "100%|██████████| 289/289 [00:22<00:00, 13.09it/s]\n",
      "100%|██████████| 62/62 [00:03<00:00, 17.58it/s]\n"
     ]
    },
    {
     "name": "stdout",
     "output_type": "stream",
     "text": [
      "Train Loss: 15.5273\n",
      "Val Loss: 1.3184\n",
      "\n",
      "Epoch 2/10\n"
     ]
    },
    {
     "name": "stderr",
     "output_type": "stream",
     "text": [
      "100%|██████████| 289/289 [00:22<00:00, 13.00it/s]\n",
      "100%|██████████| 62/62 [00:03<00:00, 17.23it/s]\n"
     ]
    },
    {
     "name": "stdout",
     "output_type": "stream",
     "text": [
      "Train Loss: 12.4508\n",
      "Val Loss: 1.2179\n",
      "\n",
      "Epoch 3/10\n"
     ]
    },
    {
     "name": "stderr",
     "output_type": "stream",
     "text": [
      "100%|██████████| 289/289 [00:22<00:00, 13.05it/s]\n",
      "100%|██████████| 62/62 [00:03<00:00, 16.72it/s]\n"
     ]
    },
    {
     "name": "stdout",
     "output_type": "stream",
     "text": [
      "Train Loss: 11.4697\n",
      "Val Loss: 1.1959\n",
      "\n",
      "Epoch 4/10\n"
     ]
    },
    {
     "name": "stderr",
     "output_type": "stream",
     "text": [
      "100%|██████████| 289/289 [00:23<00:00, 12.49it/s]\n",
      "100%|██████████| 62/62 [00:03<00:00, 17.16it/s]\n"
     ]
    },
    {
     "name": "stdout",
     "output_type": "stream",
     "text": [
      "Train Loss: 10.7607\n",
      "Val Loss: 1.1691\n",
      "\n",
      "Epoch 5/10\n"
     ]
    },
    {
     "name": "stderr",
     "output_type": "stream",
     "text": [
      "100%|██████████| 289/289 [00:22<00:00, 12.72it/s]\n",
      "100%|██████████| 62/62 [00:03<00:00, 17.53it/s]\n"
     ]
    },
    {
     "name": "stdout",
     "output_type": "stream",
     "text": [
      "Train Loss: 10.0939\n",
      "Val Loss: 1.0969\n",
      "\n",
      "Epoch 6/10\n"
     ]
    },
    {
     "name": "stderr",
     "output_type": "stream",
     "text": [
      "100%|██████████| 289/289 [00:22<00:00, 12.90it/s]\n",
      "100%|██████████| 62/62 [00:03<00:00, 16.52it/s]\n"
     ]
    },
    {
     "name": "stdout",
     "output_type": "stream",
     "text": [
      "Train Loss: 9.6168\n",
      "Val Loss: 1.1676\n",
      "\n",
      "Epoch 7/10\n"
     ]
    },
    {
     "name": "stderr",
     "output_type": "stream",
     "text": [
      "100%|██████████| 289/289 [00:22<00:00, 13.03it/s]\n",
      "100%|██████████| 62/62 [00:03<00:00, 16.77it/s]\n"
     ]
    },
    {
     "name": "stdout",
     "output_type": "stream",
     "text": [
      "Train Loss: 9.2290\n",
      "Val Loss: 1.1435\n",
      "\n",
      "Epoch 8/10\n"
     ]
    },
    {
     "name": "stderr",
     "output_type": "stream",
     "text": [
      "100%|██████████| 289/289 [00:22<00:00, 12.74it/s]\n",
      "100%|██████████| 62/62 [00:04<00:00, 15.33it/s]\n"
     ]
    },
    {
     "name": "stdout",
     "output_type": "stream",
     "text": [
      "Train Loss: 8.6735\n",
      "Val Loss: 1.1691\n",
      "Early stopping triggered.\n"
     ]
    }
   ],
   "source": [
    "model = MTLModelEfficientNet(\n",
    "\tfabric_dim=len(train_ds.label_columns['fabric']),\n",
    "\twear_dim=len(train_ds.label_columns['wear']),\n",
    "\tcolor_dim=len(train_ds.label_columns['color']),\n",
    "\ttexture_dim=len(train_ds.label_columns['texture']),\n",
    "\tvalue_add_dim=len(train_ds.label_columns['value_add']),\n",
    "\tfreeze_backbone=False\n",
    ")\n",
    "\n",
    "optimizer = optim.Adam(model.parameters(), lr=0.001)\n",
    "\n",
    "device = torch.device(\"cuda\" if torch.cuda.is_available() else \"cpu\")\n",
    "\n",
    "history = train_model(\n",
    "    model=model,\n",
    "    train_loader=train_loader,\n",
    "    val_loader=val_loader,\n",
    "    optimizer=optimizer,\n",
    "    device=device,\n",
    "    num_epochs=10,\n",
    "    threshold=0.3,\n",
    "\tuse_class_weights=True,\n",
    "\tverbose=False,\n",
    "\tmodel_name='efficientnet_mtl_th0.3_cw'\n",
    ")"
   ]
  },
  {
   "cell_type": "code",
   "execution_count": 27,
   "metadata": {},
   "outputs": [
    {
     "data": {
      "image/png": "[encoded data removed]",
      "text/plain": [
       "<Figure size 640x480 with 1 Axes>"
      ]
     },
     "metadata": {},
     "output_type": "display_data"
    }
   ],
   "source": [
    "plot_train_val_loss(history)"
   ]
  },
  {
   "cell_type": "code",
   "execution_count": 28,
   "metadata": {},
   "outputs": [
    {
     "name": "stdout",
     "output_type": "stream",
     "text": [
      "Best Epoch #: 5\n"
     ]
    },
    {
     "data": {
      "text/html": [
       "<div>\n",
       "<style scoped>\n",
       "    .dataframe tbody tr th:only-of-type {\n",
       "        vertical-align: middle;\n",
       "    }\n",
       "\n",
       "    .dataframe tbody tr th {\n",
       "        vertical-align: top;\n",
       "    }\n",
       "\n",
       "    .dataframe thead th {\n",
       "        text-align: right;\n",
       "    }\n",
       "</style>\n",
       "<table border=\"1\" class=\"dataframe\">\n",
       "  <thead>\n",
       "    <tr style=\"text-align: right;\">\n",
       "      <th></th>\n",
       "      <th>fabric</th>\n",
       "      <th>wear</th>\n",
       "      <th>color</th>\n",
       "      <th>texture</th>\n",
       "      <th>value_add</th>\n",
       "    </tr>\n",
       "  </thead>\n",
       "  <tbody>\n",
       "    <tr>\n",
       "      <th>f1</th>\n",
       "      <td>0.54</td>\n",
       "      <td>0.88</td>\n",
       "      <td>0.47</td>\n",
       "      <td>0.62</td>\n",
       "      <td>0.81</td>\n",
       "    </tr>\n",
       "    <tr>\n",
       "      <th>precision</th>\n",
       "      <td>0.47</td>\n",
       "      <td>0.85</td>\n",
       "      <td>0.42</td>\n",
       "      <td>0.64</td>\n",
       "      <td>0.76</td>\n",
       "    </tr>\n",
       "    <tr>\n",
       "      <th>recall</th>\n",
       "      <td>0.64</td>\n",
       "      <td>0.92</td>\n",
       "      <td>0.52</td>\n",
       "      <td>0.60</td>\n",
       "      <td>0.86</td>\n",
       "    </tr>\n",
       "    <tr>\n",
       "      <th>accuracy</th>\n",
       "      <td>0.34</td>\n",
       "      <td>0.84</td>\n",
       "      <td>0.02</td>\n",
       "      <td>0.37</td>\n",
       "      <td>0.72</td>\n",
       "    </tr>\n",
       "  </tbody>\n",
       "</table>\n",
       "</div>"
      ],
      "text/plain": [
       "           fabric  wear  color  texture  value_add\n",
       "f1           0.54  0.88   0.47     0.62       0.81\n",
       "precision    0.47  0.85   0.42     0.64       0.76\n",
       "recall       0.64  0.92   0.52     0.60       0.86\n",
       "accuracy     0.34  0.84   0.02     0.37       0.72"
      ]
     },
     "execution_count": 28,
     "metadata": {},
     "output_type": "execute_result"
    }
   ],
   "source": [
    "task_metrics, classwise_metrics = parse_task_metrics(history, verbose=True)\n",
    "\n",
    "pd.DataFrame.from_dict(task_metrics, orient='index').T.round(2)"
   ]
  },
  {
   "cell_type": "code",
   "execution_count": 32,
   "metadata": {},
   "outputs": [
    {
     "data": {
      "text/html": [
       "<div>\n",
       "<style scoped>\n",
       "    .dataframe tbody tr th:only-of-type {\n",
       "        vertical-align: middle;\n",
       "    }\n",
       "\n",
       "    .dataframe tbody tr th {\n",
       "        vertical-align: top;\n",
       "    }\n",
       "\n",
       "    .dataframe thead th {\n",
       "        text-align: right;\n",
       "    }\n",
       "</style>\n",
       "<table border=\"1\" class=\"dataframe\">\n",
       "  <thead>\n",
       "    <tr style=\"text-align: right;\">\n",
       "      <th></th>\n",
       "      <th>Metric</th>\n",
       "      <th>Task</th>\n",
       "      <th>Baseline (ResNet18)</th>\n",
       "      <th>EfficientNet B0 (Threshold=0.3)</th>\n",
       "      <th>Delta</th>\n",
       "    </tr>\n",
       "  </thead>\n",
       "  <tbody>\n",
       "    <tr>\n",
       "      <th>0</th>\n",
       "      <td>f1</td>\n",
       "      <td>fabric</td>\n",
       "      <td>0.48</td>\n",
       "      <td>0.54</td>\n",
       "      <td>0.05</td>\n",
       "    </tr>\n",
       "    <tr>\n",
       "      <th>1</th>\n",
       "      <td>f1</td>\n",
       "      <td>wear</td>\n",
       "      <td>0.85</td>\n",
       "      <td>0.88</td>\n",
       "      <td>0.04</td>\n",
       "    </tr>\n",
       "    <tr>\n",
       "      <th>2</th>\n",
       "      <td>f1</td>\n",
       "      <td>color</td>\n",
       "      <td>0.48</td>\n",
       "      <td>0.47</td>\n",
       "      <td>-0.01</td>\n",
       "    </tr>\n",
       "    <tr>\n",
       "      <th>3</th>\n",
       "      <td>f1</td>\n",
       "      <td>texture</td>\n",
       "      <td>0.58</td>\n",
       "      <td>0.62</td>\n",
       "      <td>0.03</td>\n",
       "    </tr>\n",
       "    <tr>\n",
       "      <th>4</th>\n",
       "      <td>f1</td>\n",
       "      <td>value_add</td>\n",
       "      <td>0.73</td>\n",
       "      <td>0.81</td>\n",
       "      <td>0.08</td>\n",
       "    </tr>\n",
       "    <tr>\n",
       "      <th>5</th>\n",
       "      <td>accuracy</td>\n",
       "      <td>fabric</td>\n",
       "      <td>0.38</td>\n",
       "      <td>0.34</td>\n",
       "      <td>-0.03</td>\n",
       "    </tr>\n",
       "    <tr>\n",
       "      <th>6</th>\n",
       "      <td>accuracy</td>\n",
       "      <td>wear</td>\n",
       "      <td>0.79</td>\n",
       "      <td>0.84</td>\n",
       "      <td>0.04</td>\n",
       "    </tr>\n",
       "    <tr>\n",
       "      <th>7</th>\n",
       "      <td>accuracy</td>\n",
       "      <td>color</td>\n",
       "      <td>0.09</td>\n",
       "      <td>0.02</td>\n",
       "      <td>-0.07</td>\n",
       "    </tr>\n",
       "    <tr>\n",
       "      <th>8</th>\n",
       "      <td>accuracy</td>\n",
       "      <td>texture</td>\n",
       "      <td>0.35</td>\n",
       "      <td>0.37</td>\n",
       "      <td>0.02</td>\n",
       "    </tr>\n",
       "    <tr>\n",
       "      <th>9</th>\n",
       "      <td>accuracy</td>\n",
       "      <td>value_add</td>\n",
       "      <td>0.65</td>\n",
       "      <td>0.72</td>\n",
       "      <td>0.08</td>\n",
       "    </tr>\n",
       "  </tbody>\n",
       "</table>\n",
       "</div>"
      ],
      "text/plain": [
       "     Metric       Task  Baseline (ResNet18)  EfficientNet B0 (Threshold=0.3)  \\\n",
       "0        f1     fabric                 0.48                             0.54   \n",
       "1        f1       wear                 0.85                             0.88   \n",
       "2        f1      color                 0.48                             0.47   \n",
       "3        f1    texture                 0.58                             0.62   \n",
       "4        f1  value_add                 0.73                             0.81   \n",
       "5  accuracy     fabric                 0.38                             0.34   \n",
       "6  accuracy       wear                 0.79                             0.84   \n",
       "7  accuracy      color                 0.09                             0.02   \n",
       "8  accuracy    texture                 0.35                             0.37   \n",
       "9  accuracy  value_add                 0.65                             0.72   \n",
       "\n",
       "   Delta  \n",
       "0   0.05  \n",
       "1   0.04  \n",
       "2  -0.01  \n",
       "3   0.03  \n",
       "4   0.08  \n",
       "5  -0.03  \n",
       "6   0.04  \n",
       "7  -0.07  \n",
       "8   0.02  \n",
       "9   0.08  "
      ]
     },
     "execution_count": 32,
     "metadata": {},
     "output_type": "execute_result"
    }
   ],
   "source": [
    "baseline_metrics, baseline_classwise_metrics = load_task_metrics_for_test('../data/model_weights/test_metrics-best_model-resnet18_baseline.pt.json')\n",
    "\n",
    "compare_task_with_baseline(baseline_metrics, task_metrics, metrics=['f1', 'accuracy'], baseline_model_name='ResNet18', new_model_name='EfficientNet B0 (Threshold=0.3)')"
   ]
  },
  {
   "cell_type": "markdown",
   "metadata": {},
   "source": [
    "So setting threshold to 0.3 seem to improve F1 and accuracy for most of the tasks, by a very small margin though."
   ]
  },
  {
   "cell_type": "markdown",
   "metadata": {},
   "source": [
    "## Conclusion\n",
    "\n",
    "This experiment with EfficientNet B0 did not yield any significant improvement over the previous baseline, even though F1 score went up by a little bit for few tasks. The model is still struggling with Color classification, and the overall performance is not satisfactory.\n",
    "\n",
    "In next experiments, I will take some of the techniques from this experiment and apply to a more complex ResNet and EfficientNet models and see how they perform."
   ]
  }
 ],
 "metadata": {
  "kernelspec": {
   "display_name": "pytorch",
   "language": "python",
   "name": "python3"
  },
  "language_info": {
   "codemirror_mode": {
    "name": "ipython",
    "version": 3
   },
   "file_extension": ".py",
   "mimetype": "text/x-python",
   "name": "python",
   "nbconvert_exporter": "python",
   "pygments_lexer": "ipython3",
   "version": "3.12.6"
  }
 },
 "nbformat": 4,
 "nbformat_minor": 2
}
